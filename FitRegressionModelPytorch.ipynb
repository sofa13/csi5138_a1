{
 "cells": [
  {
   "cell_type": "markdown",
   "metadata": {},
   "source": [
    "# CSI 5238 Homework Exercise 1"
   ]
  },
  {
   "cell_type": "code",
   "execution_count": 2,
   "metadata": {},
   "outputs": [],
   "source": [
    "import numpy as np\n",
    "import matplotlib.pyplot as plt\n",
    "from pprint import pprint\n",
    "import torch\n",
    "import torch.nn as nn\n",
    "from torch.autograd import Variable\n",
    "from sklearn import preprocessing\n",
    "torch.set_default_tensor_type('torch.DoubleTensor')"
   ]
  },
  {
   "cell_type": "markdown",
   "metadata": {},
   "source": [
    "### Generate input and output\n",
    "Generate random input x between 0 and 1 exclusively, and generate out using function f(x)."
   ]
  },
  {
   "cell_type": "code",
   "execution_count": 3,
   "metadata": {},
   "outputs": [],
   "source": [
    "def gaussianRan(sigma, mu=0):\n",
    "    # standard normal distribution of mean 0 variance 1\n",
    "    # For random samples from N(\\mu, \\sigma^2), use\n",
    "    return sigma*np.random.randn() + mu"
   ]
  },
  {
   "cell_type": "markdown",
   "metadata": {},
   "source": [
    "Test gaussian random distribution."
   ]
  },
  {
   "cell_type": "code",
   "execution_count": 4,
   "metadata": {},
   "outputs": [
    {
     "data": {
      "image/png": "[encoded data removed]",
      "text/plain": [
       "<Figure size 432x288 with 1 Axes>"
      ]
     },
     "metadata": {},
     "output_type": "display_data"
    }
   ],
   "source": [
    "n, sigma = 100, 0.1\n",
    "x = np.array([gaussianRan(sigma) for x in range(n)])\n",
    "\n",
    "bins = int(n/5)\n",
    "plt.hist(x, bins)\n",
    "plt.show()"
   ]
  },
  {
   "cell_type": "code",
   "execution_count": 5,
   "metadata": {},
   "outputs": [],
   "source": [
    "def functionx(x, sigma):\n",
    "    return np.cos(2*np.pi*x) + gaussianRan(sigma)"
   ]
  },
  {
   "cell_type": "code",
   "execution_count": 6,
   "metadata": {},
   "outputs": [
    {
     "data": {
      "image/png": "[encoded data removed]",
      "text/plain": [
       "<Figure size 432x288 with 1 Axes>"
      ]
     },
     "metadata": {},
     "output_type": "display_data"
    }
   ],
   "source": [
    "# Test functionx\n",
    "n, sigma = 50, 1\n",
    "x = np.random.uniform(low=0, high=1, size=(n,1))\n",
    "y = functionx(x, sigma)\n",
    "\n",
    "bins = int(n/5)\n",
    "plt.hist(y, bins)\n",
    "plt.show()"
   ]
  },
  {
   "cell_type": "code",
   "execution_count": 7,
   "metadata": {},
   "outputs": [],
   "source": [
    "def getData(n, sigma, is_numpy=False, preprocess=False):\n",
    "    x = np.random.uniform(low=0, high=1, size=(n,1))\n",
    "    y = functionx(x, sigma)\n",
    "    \n",
    "    if preprocess:\n",
    "        x = preprocessing.scale(x)\n",
    "        y = preprocessing.scale(y)\n",
    "    \n",
    "    if is_numpy:\n",
    "        return x, y\n",
    "    return Variable(torch.from_numpy(x)), Variable(torch.from_numpy(y))"
   ]
  },
  {
   "cell_type": "markdown",
   "metadata": {},
   "source": [
    "Graph input and output results."
   ]
  },
  {
   "cell_type": "code",
   "execution_count": 31,
   "metadata": {},
   "outputs": [
    {
     "data": {
      "image/png": "[encoded data removed]",
      "text/plain": [
       "<Figure size 432x288 with 1 Axes>"
      ]
     },
     "metadata": {},
     "output_type": "display_data"
    }
   ],
   "source": [
    "n = 50\n",
    "sigma = 0.01\n",
    "x, y = getData(n, sigma, is_numpy=True, preprocess=False)\n",
    "\n",
    "plt.scatter(x, y)\n",
    "plt.show()"
   ]
  },
  {
   "cell_type": "markdown",
   "metadata": {},
   "source": [
    "### Define loss function, polynomial feature function, linear regression model"
   ]
  },
  {
   "cell_type": "code",
   "execution_count": 9,
   "metadata": {},
   "outputs": [],
   "source": [
    "def forwardTorchNumpy(x, y, w, lambd, is_numpy=False):\n",
    "    if is_numpy:\n",
    "        y_pred = np.dot(x,w)\n",
    "    else:\n",
    "        y_pred = torch.mm(x,w)\n",
    "    return getMSE(y_pred, y, w, lambd, is_numpy=is_numpy)"
   ]
  },
  {
   "cell_type": "code",
   "execution_count": 67,
   "metadata": {},
   "outputs": [],
   "source": [
    "def getMSE(y_pred, y, w, lambd, is_numpy=False):\n",
    "    if is_numpy:\n",
    "        return np.mean((y_pred - y)**2) + lambd*np.mean(np.dot(w.T, w))\n",
    "    return torch.mean((y_pred - y)**2) + lambd*torch.mean(torch.mm(w.t(), w))"
   ]
  },
  {
   "cell_type": "code",
   "execution_count": 68,
   "metadata": {},
   "outputs": [
    {
     "name": "stdout",
     "output_type": "stream",
     "text": [
      "tensor(2.6250)\n"
     ]
    }
   ],
   "source": [
    "# Test getMSE\n",
    "y_pred = torch.Tensor([[1.5],[1]])\n",
    "y = torch.Tensor([[2],[2]])\n",
    "w = torch.Tensor([[1],[1]])\n",
    "lambd = 1\n",
    "print(getMSE(y_pred, y, w, lambd))"
   ]
  },
  {
   "cell_type": "code",
   "execution_count": 38,
   "metadata": {},
   "outputs": [],
   "source": [
    "def polynomialx(x, d, is_numpy=False):\n",
    "    if d == 0:\n",
    "        x = np.zeros_like(x)\n",
    "    else:\n",
    "        poly = preprocessing.PolynomialFeatures(d, include_bias=False)\n",
    "        x = poly.fit_transform(x)\n",
    "        \n",
    "    if is_numpy is False:\n",
    "        x = torch.from_numpy(x)\n",
    "    return x"
   ]
  },
  {
   "cell_type": "code",
   "execution_count": 39,
   "metadata": {},
   "outputs": [
    {
     "name": "stdout",
     "output_type": "stream",
     "text": [
      "tensor([[0],\n",
      "        [0],\n",
      "        [0]], dtype=torch.int32)\n"
     ]
    }
   ],
   "source": [
    "# Test polynomialx\n",
    "x = np.array([[2], [3], [4]])\n",
    "d = 0\n",
    "print(polynomialx(x,d))"
   ]
  },
  {
   "cell_type": "code",
   "execution_count": 44,
   "metadata": {},
   "outputs": [],
   "source": [
    "class LrModule(nn.Module):\n",
    "\n",
    "    def __init__(self, d):\n",
    "        super(LrModule, self).__init__()\n",
    "        if d == 0: d = 1\n",
    "        self.linear = nn.Linear(d,1)\n",
    "\n",
    "    def forward(self, x):\n",
    "        # linear\n",
    "        return self.linear(x)"
   ]
  },
  {
   "cell_type": "code",
   "execution_count": 45,
   "metadata": {},
   "outputs": [
    {
     "name": "stdout",
     "output_type": "stream",
     "text": [
      "Linear(in_features=1, out_features=1, bias=True)\n"
     ]
    }
   ],
   "source": [
    "# Check LrModule\n",
    "lr = LrModule(0)\n",
    "print(lr.linear)"
   ]
  },
  {
   "cell_type": "code",
   "execution_count": 16,
   "metadata": {},
   "outputs": [],
   "source": [
    "# Test getMSE\n",
    "x = np.array([[1,2], [1,3], [1,4], [1,5]])\n",
    "y = np.array([[7], [6], [5], [4]])\n",
    "w = np.array([[0.1], [0.2]])\n",
    "y_pred = np.dot(x,w)\n",
    "res = getMSE(y_pred, y, w, lambd=0, is_numpy=True)\n",
    "assert res == 23.89"
   ]
  },
  {
   "cell_type": "markdown",
   "metadata": {},
   "source": [
    "### Gradient Checking"
   ]
  },
  {
   "cell_type": "code",
   "execution_count": 17,
   "metadata": {},
   "outputs": [],
   "source": [
    "def gradApprox(lr, x, y, lambd, e=1e-2):\n",
    "    w = lr.linear.weight.data\n",
    "    w = w.detach().numpy()\n",
    "    y = y.detach().numpy()\n",
    "    dwa = np.zeros_like(w)\n",
    "    \n",
    "    i = 0\n",
    "    for val in w[0]:\n",
    "        wp, wm = w.copy(), w.copy()\n",
    "\n",
    "        wp[0][i] += e\n",
    "        wm[0][i] -= e\n",
    "        \n",
    "        lr.linear.weight.data = torch.from_numpy(wp)\n",
    "        y_pred = lr.forward(x)\n",
    "        y_pred = y_pred.detach().numpy()\n",
    "        jp = getMSE(y_pred, y, wp, lambd, is_numpy=True)\n",
    "        \n",
    "        lr.linear.weight.data = torch.from_numpy(wm)\n",
    "        y_pred = lr.forward(x)\n",
    "        y_pred = y_pred.detach().numpy()\n",
    "        jm = getMSE(y_pred, y, wm, lambd, is_numpy=True)\n",
    "\n",
    "        dwa[0][i] = (jp - jm)/(2*e)\n",
    "        i += 1\n",
    "    \n",
    "    return dwa"
   ]
  },
  {
   "cell_type": "code",
   "execution_count": 18,
   "metadata": {},
   "outputs": [],
   "source": [
    "def checkGrad(lr, x, y, lambd):\n",
    "    dw = lr.linear.weight.grad\n",
    "    dw = dw.detach().numpy()\n",
    "    dwa = gradApprox(lr, x, y, lambd)\n",
    "    print(\"*****************************************\")\n",
    "    print(\"dw: \", dw)\n",
    "    print(\"dwa:\", dwa)\n",
    "    e = np.linalg.norm(dw-dwa)/(np.linalg.norm(dw) + np.linalg.norm(dwa))\n",
    "    print(\"Grad approx error: \", e)\n",
    "    print(\"*****************************************\")"
   ]
  },
  {
   "cell_type": "code",
   "execution_count": 19,
   "metadata": {},
   "outputs": [
    {
     "name": "stdout",
     "output_type": "stream",
     "text": [
      "w:  tensor([[0.2000, 0.3000, 0.4000]])\n",
      "b:  tensor([[0.2000, 0.3000, 0.4000]])\n",
      "Cost:  tensor(2.7067, grad_fn=<ThAddBackward>)\n",
      "dw:  tensor([[-17.4667,  -8.6667, -15.8667]])\n",
      "db:  tensor([-2.8000])\n",
      "*****************************************\n",
      "dw:  [[-17.46666667  -8.66666667 -15.86666667]]\n",
      "dwa: [[-17.46666667  -8.66666667 -15.86666667]]\n",
      "Grad approx error:  2.6439547406212775e-16\n",
      "*****************************************\n"
     ]
    }
   ],
   "source": [
    "# Test LrModule gradient\n",
    "lr = LrModule(3)\n",
    "x = torch.Tensor([[8,1,6],[3,5,7],[4,9,2]])\n",
    "y = torch.Tensor([[7],[6],[5]])\n",
    "w = torch.Tensor([[0.2, 0.3, 0.4]])\n",
    "b = torch.Tensor([0.1])\n",
    "lambd = 0\n",
    "learning_rate=1e-2\n",
    "\n",
    "lr.linear.weight.data = w\n",
    "lr.linear.bias.data = b\n",
    "\n",
    "lr.linear.weight.data = w\n",
    "lr.linear.bias.data = b\n",
    "print(\"w: \", lr.linear.weight.data)\n",
    "print(\"b: \", lr.linear.weight.data)\n",
    "y_pred = lr.forward(x)\n",
    "cost = getMSE(y_pred, y, w, lambd)\n",
    "print(\"Cost: \", cost)\n",
    "cost.backward()\n",
    "dw, db = lr.linear.weight.grad, lr.linear.bias.grad\n",
    "print(\"dw: \", dw)\n",
    "print(\"db: \", db)\n",
    "\n",
    "# grad checking\n",
    "checkGrad(lr, x, y, lambd)\n",
    "\n",
    "# Update gradient\n",
    "#lr.linear.weight.data -= learning_rate*lr.linear.weight.grad.data\n",
    "#lr.linear.bias.data -= learning_rate*lr.linear.bias.grad.data\n",
    "\n",
    "# print(\"**************\")\n",
    "# print(\"w: \", lr.linear.weight.data)\n",
    "# print(\"b: \", lr.linear.weight.data)\n",
    "# lr.zero_grad()\n",
    "# y_pred = lr.forward(x)\n",
    "# cost = getMSE(y_pred, y, w, lambd)\n",
    "# print(\"Cost: \", cost)\n",
    "# cost.backward()\n",
    "# dw, db = lr.linear.weight.grad, lr.linear.bias.grad\n",
    "# print(\"dw: \", dw)\n",
    "# print(\"db: \", db)"
   ]
  },
  {
   "cell_type": "markdown",
   "metadata": {},
   "source": [
    "### Learned model"
   ]
  },
  {
   "cell_type": "code",
   "execution_count": 112,
   "metadata": {},
   "outputs": [],
   "source": [
    "def fitData(x, y, d, sigma, lambd=0, learning_rate=1e-1, itera=1000, n_test=1000, check_grad=False):  \n",
    "    # create polynomial x matrix\n",
    "    x = polynomialx(x, d)\n",
    "    \n",
    "    # keep track of cost for testing\n",
    "    cost_hist = []\n",
    "    it_hist = []\n",
    "    \n",
    "    lr = LrModule(d)\n",
    "    \n",
    "    for i in range(itera):\n",
    "        # clear grads\n",
    "        lr.zero_grad()\n",
    "        \n",
    "        # Forward\n",
    "        y_pred = lr.forward(x)\n",
    "        \n",
    "        # loss\n",
    "        w = lr.linear.weight.data\n",
    "        cost = getMSE(y_pred, y, w, lambd)\n",
    "        \n",
    "        # Backward for derivative\n",
    "        cost.backward()\n",
    "        \n",
    "        # Gradient checking\n",
    "        if check_grad and i>20:\n",
    "            checkGrad(lr, x, y, lambd)\n",
    "            break\n",
    "        \n",
    "        # Update gradient\n",
    "        lr.linear.weight.data -= learning_rate*lr.linear.weight.grad.data\n",
    "        lr.linear.bias.data -= learning_rate*lr.linear.bias.grad.data\n",
    "        \n",
    "        # Save cost history for testing\n",
    "        cost_hist.append(cost.detach().numpy())\n",
    "        it_hist.append(i)\n",
    "    \n",
    "    w = lr.linear.weight.data\n",
    "    \n",
    "    # Calculate Ein\n",
    "    Ein = getMSE(lr.forward(x), y, w, lambd)\n",
    "    \n",
    "    # Create test dataset\n",
    "    x_test, y_test = getData(n_test, sigma)\n",
    "    \n",
    "    # Create x_test dimension d\n",
    "    x_test = polynomialx(x_test, d)\n",
    "    \n",
    "    # Calculate Eout\n",
    "    Eout = getMSE(lr.forward(x_test), y_test, w, lambd)\n",
    "    \n",
    "    return Ein.detach().numpy(), Eout.detach().numpy(), lr, [it_hist, cost_hist]"
   ]
  },
  {
   "cell_type": "code",
   "execution_count": 124,
   "metadata": {},
   "outputs": [
    {
     "name": "stdout",
     "output_type": "stream",
     "text": [
      "y_pred and y\n"
     ]
    },
    {
     "data": {
      "image/png": "[encoded data removed]",
      "text/plain": [
       "<Figure size 432x288 with 1 Axes>"
      ]
     },
     "metadata": {},
     "output_type": "display_data"
    },
    {
     "name": "stdout",
     "output_type": "stream",
     "text": [
      "Ein:  0.0581916077866119\n",
      "Eout:  0.07872160598668422\n",
      "Loss function vs iterations\n"
     ]
    },
    {
     "data": {
      "image/png": "[encoded data removed]",
      "text/plain": [
       "<Figure size 432x288 with 1 Axes>"
      ]
     },
     "metadata": {},
     "output_type": "display_data"
    }
   ],
   "source": [
    "# Test fitData \n",
    "d, sigma, n, lambd = 4, 0.01, 50, 0\n",
    "x, y = getData(n,sigma)\n",
    "Ein, Eout, lr, plot_data = fitData(x, y, d, sigma, lambd=lambd, check_grad=False)\n",
    "\n",
    "x_poly = polynomialx(x, d)\n",
    "y_pred = lr.forward(x_poly)\n",
    "\n",
    "print(\"y_pred and y\")\n",
    "plt.scatter(x.detach().numpy(), y.detach().numpy())\n",
    "plt.scatter(x.detach().numpy(), y_pred.detach().numpy())\n",
    "plt.show()\n",
    "\n",
    "print(\"Ein: \", Ein)\n",
    "print(\"Eout: \", Eout)\n",
    "\n",
    "xx, yy = plot_data\n",
    "#print(xx)\n",
    "#print(yy)\n",
    "print(\"Loss function vs iterations\")\n",
    "plt.scatter(xx, yy)\n",
    "plt.show()"
   ]
  },
  {
   "cell_type": "markdown",
   "metadata": {},
   "source": [
    "### Experiments"
   ]
  },
  {
   "cell_type": "code",
   "execution_count": 22,
   "metadata": {},
   "outputs": [],
   "source": [
    "def experiment(n, d, sigma, lambd, trials=20, n_test=1000):\n",
    "    # initialize\n",
    "    Ein_hist, Eout_hist = np.array([]), np.array([])\n",
    "    w_hist, b_hist = np.empty([d, 0]), np.array([])\n",
    "    \n",
    "    for trail in range(trials):\n",
    "        x, y = getData(n, sigma)\n",
    "        Ein, Eout, lr, plot_data = fitData(x, y, d, sigma)\n",
    "        Ein_hist = np.append(Ein_hist, [Ein])\n",
    "        Eout_hist = np.append(Eout_hist, [Eout])\n",
    "        w_hist = np.append(w_hist, lr.linear.weight.data.detach().numpy().reshape(-1,1), axis=1)\n",
    "        b_hist = np.append(b_hist, lr.linear.bias.data.detach().numpy().reshape(-1,1))\n",
    "    \n",
    "#     print(Ein_hist)\n",
    "#     print(Eout_hist)\n",
    "#     print(w_hist)\n",
    "#     print(b_hist)\n",
    "    \n",
    "    # take the avg\n",
    "    Ein_avg = np.mean(Ein_hist)\n",
    "    Eout_avg = np.mean(Eout_hist)\n",
    "    w_avg = (1/trials)*np.sum(w_hist, axis=1).reshape(1,d)\n",
    "    b_avg = np.mean(b_hist)\n",
    "    \n",
    "#     print(Ein_avg)\n",
    "#     print(Eout_avg)\n",
    "#     print(w_avg)\n",
    "#     print(b_avg)\n",
    "    \n",
    "    # Create test dataset on averaged polynomials\n",
    "    x_test, y_test = getData(n_test, sigma)\n",
    "    \n",
    "    # Create x_test dimension d\n",
    "    x_test = polynomialx(x_test, d)\n",
    "    \n",
    "    # Ebias\n",
    "    w_avg = torch.from_numpy(w_avg)\n",
    "    b_avg = torch.Tensor([b_avg])\n",
    "    lr.linear.weight.data = w_avg\n",
    "    lr.linear.bias.data = b_avg\n",
    "    Ebias = getMSE(lr.forward(x_test), y_test, w_avg, lambd)\n",
    "    Ebias = Ebias.detach().numpy()\n",
    "    Ebias = float(Ebias)\n",
    "    \n",
    "    return Ein_avg, Eout_avg, Ebias"
   ]
  },
  {
   "cell_type": "code",
   "execution_count": 23,
   "metadata": {},
   "outputs": [
    {
     "name": "stdout",
     "output_type": "stream",
     "text": [
      "Ein_avg:  0.4391707221313662\n",
      "Eout_avg:  0.4465231718182564\n",
      "Ebias:  0.43537972673858294\n"
     ]
    }
   ],
   "source": [
    "# Test experiment \n",
    "d, sigma, n, lambd = 4, 0.01, 100, 0\n",
    "Ein_avg, Eout_avg, Ebias = experiment(n, d, sigma, lambd)\n",
    "\n",
    "print(\"Ein_avg: \", Ein_avg)\n",
    "print(\"Eout_avg: \", Eout_avg)\n",
    "print(\"Ebias: \", Ebias)"
   ]
  },
  {
   "cell_type": "markdown",
   "metadata": {},
   "source": [
    "### Initialize parameters for experiment\n",
    "The experiment runs through combinations of different sized input, deg of features, and sigmas for f(x). A regularization rate lamba is also set. Lambda is 0 if regularization is not used."
   ]
  },
  {
   "cell_type": "code",
   "execution_count": 29,
   "metadata": {},
   "outputs": [],
   "source": [
    "bigN = [2, 5, 10, 20, 50, 100, 200]\n",
    "deg = list(range(0,21))\n",
    "#deg = [19]\n",
    "sigmas = [0.01, 0.1, 1]\n",
    "#sigmas = [1]\n",
    "lambd = 0\n",
    "numCombinations = len(bigN)*len(deg)*len(sigmas)"
   ]
  },
  {
   "cell_type": "code",
   "execution_count": 169,
   "metadata": {},
   "outputs": [
    {
     "name": "stdout",
     "output_type": "stream",
     "text": [
      "Number combinations:  7\n",
      "Experiment  1\n",
      "Inputs N, d, sigma: 2, 19, 1\n",
      "0.05681740905320628, 1.8261400351813593, 0.7478714474785423\n",
      "Experiment  2\n",
      "Inputs N, d, sigma: 5, 19, 1\n",
      "0.23319104061668944, 1.774175138867296, 1.1336894503081698\n",
      "Experiment  3\n",
      "Inputs N, d, sigma: 10, 19, 1\n",
      "0.3223180164045056, 2.935824638604545, 4.057468145620565\n",
      "Experiment  4\n",
      "Inputs N, d, sigma: 20, 19, 1\n",
      "0.33072378940027736, 2.9661465112386476, 0.8911408791264195\n",
      "Experiment  5\n",
      "Inputs N, d, sigma: 50, 19, 1\n",
      "0.3472722185672251, 2.191406226681692, 0.7378655205547372\n",
      "Experiment  6\n",
      "Inputs N, d, sigma: 100, 19, 1\n",
      "0.36471121908895776, 3.227938364190367, 0.5055750161764795\n",
      "Experiment  7\n",
      "Inputs N, d, sigma: 200, 19, 1\n",
      "0.33970379586445976, 2.268251006680747, 6.483867528909335\n"
     ]
    }
   ],
   "source": [
    "# testing\n",
    "# bigN = [50]\n",
    "# deg = [4]\n",
    "# sigmas = [0.1]\n",
    "\n",
    "experiments = []\n",
    "\n",
    "cntCombinations = 0\n",
    "print(\"Number combinations: \", numCombinations)\n",
    "\n",
    "for n in bigN:\n",
    "    for d in deg:\n",
    "        for sigma in sigmas:\n",
    "            cntCombinations+=1\n",
    "            Ein_avg, Eout_avg, Ebias = experiment(n, d, sigma, lambd)\n",
    "            \n",
    "            print(\"Experiment \", cntCombinations)\n",
    "            print(\"Inputs N, d, sigma: %s, %s, %s\" % (n, d, sigma))\n",
    "            print(\"%s, %s, %s\" % (Ein_avg, Eout_avg, Ebias))\n",
    "            experiments.append([n, d, sigma, Ein_avg, Eout_avg, Ebias])\n",
    "\n",
    "# save experiment\n",
    "with open(\".\\experiments\\experiments_8\", 'w', encoding=\"utf-8\") as fout:\n",
    "    pprint(experiments, fout)\n"
   ]
  },
  {
   "cell_type": "markdown",
   "metadata": {},
   "source": [
    "### Reports"
   ]
  },
  {
   "cell_type": "code",
   "execution_count": 33,
   "metadata": {},
   "outputs": [
    {
     "data": {
      "image/png": "[encoded data removed]",
      "text/plain": [
       "<Figure size 432x288 with 1 Axes>"
      ]
     },
     "metadata": {},
     "output_type": "display_data"
    },
    {
     "data": {
      "image/png": "[encoded data removed]",
      "text/plain": [
       "<Figure size 432x288 with 1 Axes>"
      ]
     },
     "metadata": {},
     "output_type": "display_data"
    },
    {
     "data": {
      "image/png": "[encoded data removed]",
      "text/plain": [
       "<Figure size 432x288 with 1 Axes>"
      ]
     },
     "metadata": {},
     "output_type": "display_data"
    }
   ],
   "source": [
    "# do fun stuff with experiment\n",
    "with open(\".\\experiments\\experiments_reg_6\", \"r\", encoding='utf-8') as f:\n",
    "    experiments = eval(f.read())\n",
    "    \n",
    "n_dict, d_dict, sigma_dict = dict(), dict(), dict()\n",
    "for exp in experiments:\n",
    "    n, d, s = exp[0], exp[1], exp[2]\n",
    "    \n",
    "    n_dict[n] = n_dict.get(n, np.array([0, 0, 0])) + np.array(exp[3:6])\n",
    "    d_dict[d] = d_dict.get(d, np.array([0, 0, 0])) + np.array(exp[3:6])\n",
    "    sigma_dict[s] = sigma_dict.get(s, np.array([0, 0, 0])) + np.array(exp[3:6])\n",
    "\n",
    "# avg (this actually isn't needed if I am normalizing from range 0 to 1)\n",
    "n_dict = {k: x/(numCombinations/len(n_dict)) for k, x in n_dict.items()}\n",
    "d_dict = {k: x/(numCombinations/len(d_dict)) for k, x in d_dict.items()}\n",
    "sigma_dict = {k: x/(numCombinations/len(sigma_dict)) for k, x in sigma_dict.items()}\n",
    "\n",
    "# pprint(n_dict)\n",
    "# pprint(d_dict)\n",
    "# pprint(sigma_dict)\n",
    "\n",
    "# plot n vs Ein_avg, Eout_avg, Ebias\n",
    "y_Ein = [n_dict[n][0] for n in bigN]\n",
    "y_Eout = [n_dict[n][1] for n in bigN]\n",
    "y_Ebias = [n_dict[n][2] for n in bigN]\n",
    "\n",
    "plt.plot(bigN, y_Ein)\n",
    "plt.plot(bigN, y_Eout)\n",
    "plt.plot(bigN, y_Ebias)\n",
    "plt.show()\n",
    "\n",
    "# plot deg vs Ein_avg, Eout_avg, Ebias\n",
    "y_Ein = [d_dict[n][0] for n in deg]\n",
    "y_Eout = [d_dict[n][1] for n in deg]\n",
    "y_Ebias = [d_dict[n][2] for n in deg]\n",
    "\n",
    "plt.plot(deg, y_Ein)\n",
    "plt.plot(deg, y_Eout)\n",
    "plt.plot(deg, y_Ebias)\n",
    "plt.show()\n",
    "\n",
    "# plot sigma vs Ein_avg, Eout_avg, Ebias\n",
    "y_Ein = [sigma_dict[n][0] for n in sigmas]\n",
    "y_Eout = [sigma_dict[n][1] for n in sigmas]\n",
    "y_Ebias = [sigma_dict[n][2] for n in sigmas]\n",
    "\n",
    "plt.plot(sigmas, y_Ein)\n",
    "plt.plot(sigmas, y_Eout)\n",
    "plt.plot(sigmas, y_Ebias)\n",
    "plt.show()"
   ]
  },
  {
   "cell_type": "markdown",
   "metadata": {},
   "source": []
  }
 ],
 "metadata": {
  "kernelspec": {
   "display_name": "Python 3",
   "language": "python",
   "name": "python3"
  },
  "language_info": {
   "codemirror_mode": {
    "name": "ipython",
    "version": 3
   },
   "file_extension": ".py",
   "mimetype": "text/x-python",
   "name": "python",
   "nbconvert_exporter": "python",
   "pygments_lexer": "ipython3",
   "version": "3.6.5"
  }
 },
 "nbformat": 4,
 "nbformat_minor": 2
}
