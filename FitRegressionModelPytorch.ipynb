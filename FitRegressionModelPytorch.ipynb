{
 "cells": [
  {
   "cell_type": "markdown",
   "metadata": {},
   "source": [
    "**CSI 5238 Homework Exercise 1**\n",
    "\n",
    "This homework explores the ﬁtting and generalization of regression models via simulation."
   ]
  },
  {
   "cell_type": "code",
   "execution_count": 49,
   "metadata": {},
   "outputs": [],
   "source": [
    "import numpy as np\n",
    "import matplotlib.pyplot as plt\n",
    "from pprint import pprint\n",
    "import torch\n",
    "import torch.nn as nn\n",
    "from sklearn import preprocessing"
   ]
  },
  {
   "cell_type": "markdown",
   "metadata": {},
   "source": [
    "### Generate input and output\n",
    "Generate random input x between 0 and 1 exclusively, and generate output using function f(x). "
   ]
  },
  {
   "cell_type": "code",
   "execution_count": 50,
   "metadata": {},
   "outputs": [],
   "source": [
    "def functionx(x, sigma, mu=0):\n",
    "    return np.cos(2*np.pi*x) + (sigma*np.random.randn(x.size,1) + mu)"
   ]
  },
  {
   "cell_type": "code",
   "execution_count": 51,
   "metadata": {},
   "outputs": [],
   "source": [
    "def getData(n, sigma, is_numpy=False, preprocess=False):\n",
    "    x = np.random.uniform(low=0, high=1, size=(n,1))\n",
    "    y = functionx(x, sigma)\n",
    "    \n",
    "    if preprocess:\n",
    "        x = preprocessing.scale(x)\n",
    "    \n",
    "    if is_numpy:\n",
    "        return x, y\n",
    "    \n",
    "    return torch.from_numpy(x), torch.from_numpy(y)"
   ]
  },
  {
   "cell_type": "code",
   "execution_count": 52,
   "metadata": {},
   "outputs": [
    {
     "data": {
      "image/png": "[encoded data removed]",
      "text/plain": [
       "<Figure size 432x288 with 1 Axes>"
      ]
     },
     "metadata": {},
     "output_type": "display_data"
    },
    {
     "data": {
      "image/png": "[encoded data removed]",
      "text/plain": [
       "<Figure size 432x288 with 1 Axes>"
      ]
     },
     "metadata": {},
     "output_type": "display_data"
    }
   ],
   "source": [
    "# Analyze data\n",
    "n, sigma = 100, 0.01\n",
    "x, y = getData(n, sigma, is_numpy=True, preprocess=False)\n",
    "\n",
    "plt.scatter(x, y)\n",
    "plt.show()\n",
    "\n",
    "plt.hist(y, bins)\n",
    "plt.show()"
   ]
  },
  {
   "cell_type": "markdown",
   "metadata": {},
   "source": [
    "### Define loss function, polynomial feature function, and linear regression model\n",
    "Loss function is MSE. Polynomial features function makes use of sklearn. Linear regression model makes use of pytorch."
   ]
  },
  {
   "cell_type": "code",
   "execution_count": 53,
   "metadata": {},
   "outputs": [],
   "source": [
    "def getMSE(y_pred, y, w, lambd, is_numpy=False):\n",
    "    if is_numpy:\n",
    "        m = w.size\n",
    "        return np.mean((y_pred - y)**2) + lambd*(1/m)*np.mean((np.dot(w.T, w)))\n",
    "    \n",
    "    m = w.size()[1]\n",
    "    return torch.mean((y_pred - y)**2) + lambd*(1/m)*((torch.mm(w.t(), w))[0][0])"
   ]
  },
  {
   "cell_type": "code",
   "execution_count": 54,
   "metadata": {},
   "outputs": [
    {
     "name": "stdout",
     "output_type": "stream",
     "text": [
      "tensor(2.6250)\n"
     ]
    }
   ],
   "source": [
    "# Test getMSE\n",
    "y_pred = torch.Tensor([[1.5],[1]])\n",
    "y = torch.Tensor([[2],[2]])\n",
    "w = torch.Tensor([[1],[1]])\n",
    "lambd = 1\n",
    "print(getMSE(y_pred, y, w, lambd))"
   ]
  },
  {
   "cell_type": "code",
   "execution_count": 55,
   "metadata": {},
   "outputs": [],
   "source": [
    "# Test getMSE\n",
    "x = np.array([[1,2], [1,3], [1,4], [1,5]])\n",
    "y = np.array([[7], [6], [5], [4]])\n",
    "w = np.array([[0.1], [0.2]])\n",
    "y_pred = np.dot(x,w)\n",
    "res = getMSE(y_pred, y, w, lambd=0, is_numpy=True)\n",
    "assert res == 23.89"
   ]
  },
  {
   "cell_type": "code",
   "execution_count": 56,
   "metadata": {},
   "outputs": [],
   "source": [
    "def polynomialx(x, d):\n",
    "    if d == 0:\n",
    "        x = np.zeros_like(x)\n",
    "    else:\n",
    "        poly = preprocessing.PolynomialFeatures(d, include_bias=False)\n",
    "        x = poly.fit_transform(x)\n",
    "        \n",
    "    x = torch.from_numpy(x)\n",
    "    \n",
    "    return x"
   ]
  },
  {
   "cell_type": "code",
   "execution_count": 57,
   "metadata": {},
   "outputs": [
    {
     "name": "stdout",
     "output_type": "stream",
     "text": [
      "tensor([[0.9429],\n",
      "        [0.5331],\n",
      "        [0.9275],\n",
      "        [0.6463],\n",
      "        [0.2580]])\n",
      "tensor([[9.4286e-01, 8.8898e-01, 8.3818e-01, 7.9028e-01, 7.4512e-01, 7.0254e-01,\n",
      "         6.6239e-01, 6.2454e-01, 5.8885e-01, 5.5520e-01],\n",
      "        [5.3314e-01, 2.8424e-01, 1.5154e-01, 8.0793e-02, 4.3074e-02, 2.2965e-02,\n",
      "         1.2243e-02, 6.5274e-03, 3.4801e-03, 1.8554e-03],\n",
      "        [9.2749e-01, 8.6024e-01, 7.9786e-01, 7.4001e-01, 6.8635e-01, 6.3659e-01,\n",
      "         5.9043e-01, 5.4762e-01, 5.0791e-01, 4.7108e-01],\n",
      "        [6.4634e-01, 4.1775e-01, 2.7001e-01, 1.7452e-01, 1.1280e-01, 7.2906e-02,\n",
      "         4.7122e-02, 3.0457e-02, 1.9685e-02, 1.2723e-02],\n",
      "        [2.5795e-01, 6.6538e-02, 1.7164e-02, 4.4273e-03, 1.1420e-03, 2.9459e-04,\n",
      "         7.5989e-05, 1.9601e-05, 5.0562e-06, 1.3042e-06]])\n"
     ]
    }
   ],
   "source": [
    "# Test polynomialx\n",
    "x, y = getData(5, 0.1)\n",
    "print(x)\n",
    "print(polynomialx(x,10))"
   ]
  },
  {
   "cell_type": "code",
   "execution_count": 58,
   "metadata": {},
   "outputs": [],
   "source": [
    "class LrModule(nn.Module):\n",
    "\n",
    "    def __init__(self, d):\n",
    "        super(LrModule, self).__init__()\n",
    "        if d == 0: d = 1\n",
    "        self.linear = nn.Linear(d,1)\n",
    "\n",
    "    def forward(self, x):\n",
    "        # linear\n",
    "        return self.linear(x)"
   ]
  },
  {
   "cell_type": "code",
   "execution_count": 59,
   "metadata": {},
   "outputs": [
    {
     "name": "stdout",
     "output_type": "stream",
     "text": [
      "Linear(in_features=5, out_features=1, bias=True)\n",
      "tensor([[-0.3347, -0.2627,  0.3115,  0.0578, -0.3295]])\n",
      "tensor([-0.4116])\n"
     ]
    }
   ],
   "source": [
    "# Check LrModule\n",
    "lr = LrModule(5)\n",
    "print(lr.linear)\n",
    "print(lr.linear.weight.data)\n",
    "print(lr.linear.bias.data)"
   ]
  },
  {
   "cell_type": "markdown",
   "metadata": {},
   "source": [
    "### Gradient Checking\n",
    "Implement gradient checking by small increases and decreases to weights and comparing to pytorch's backprop. As shown by prof Andrew Ng lectures."
   ]
  },
  {
   "cell_type": "code",
   "execution_count": 60,
   "metadata": {},
   "outputs": [],
   "source": [
    "def gradApprox(lr, x, y, lambd, e=1e-2):\n",
    "    w = lr.linear.weight.data\n",
    "    w = w.detach().numpy()\n",
    "    y = y.detach().numpy()\n",
    "    dwa = np.zeros_like(w)\n",
    "    \n",
    "    i = 0\n",
    "    for val in w[0]:\n",
    "        wp, wm = w.copy(), w.copy()\n",
    "\n",
    "        wp[0][i] += e\n",
    "        wm[0][i] -= e\n",
    "        \n",
    "        lr.linear.weight.data = torch.from_numpy(wp)\n",
    "        y_pred = lr.forward(x)\n",
    "        y_pred = y_pred.detach().numpy()\n",
    "        jp = getMSE(y_pred, y, wp, lambd, is_numpy=True)\n",
    "        \n",
    "        lr.linear.weight.data = torch.from_numpy(wm)\n",
    "        y_pred = lr.forward(x)\n",
    "        y_pred = y_pred.detach().numpy()\n",
    "        jm = getMSE(y_pred, y, wm, lambd, is_numpy=True)\n",
    "\n",
    "        dwa[0][i] = (jp - jm)/(2*e)\n",
    "        i += 1\n",
    "    \n",
    "    return dwa"
   ]
  },
  {
   "cell_type": "code",
   "execution_count": 61,
   "metadata": {},
   "outputs": [],
   "source": [
    "def checkGrad(lr, x, y, lambd):\n",
    "    dw = lr.linear.weight.grad\n",
    "    dw = dw.detach().numpy()\n",
    "    dwa = gradApprox(lr, x, y, lambd)\n",
    "    print(\"*****************************************\")\n",
    "    print(\"dw: \", dw)\n",
    "    print(\"dwa:\", dwa)\n",
    "    e = np.linalg.norm(dw-dwa)/(np.linalg.norm(dw) + np.linalg.norm(dwa))\n",
    "    print(\"Grad approx error: \", e)\n",
    "    print(\"*****************************************\")"
   ]
  },
  {
   "cell_type": "code",
   "execution_count": 62,
   "metadata": {},
   "outputs": [
    {
     "name": "stdout",
     "output_type": "stream",
     "text": [
      "w:  tensor([[0.2000, 0.3000, 0.4000]])\n",
      "b:  tensor([[0.2000, 0.3000, 0.4000]])\n",
      "Cost:  tensor(2.7067, grad_fn=<ThAddBackward>)\n",
      "dw:  tensor([[-17.4667,  -8.6667, -15.8667]])\n",
      "db:  tensor([-2.8000])\n",
      "*****************************************\n",
      "dw:  [[-17.46666667  -8.66666667 -15.86666667]]\n",
      "dwa: [[-17.46666667  -8.66666667 -15.86666667]]\n",
      "Grad approx error:  2.6439547406212775e-16\n",
      "*****************************************\n"
     ]
    }
   ],
   "source": [
    "# Test LrModule gradient checking\n",
    "lr = LrModule(3)\n",
    "x = torch.Tensor([[8,1,6],[3,5,7],[4,9,2]])\n",
    "y = torch.Tensor([[7],[6],[5]])\n",
    "w = torch.Tensor([[0.2, 0.3, 0.4]])\n",
    "b = torch.Tensor([0.1])\n",
    "lambd = 0\n",
    "learning_rate=1e-2\n",
    "\n",
    "lr.linear.weight.data = w\n",
    "lr.linear.bias.data = b\n",
    "print(\"w: \", lr.linear.weight.data)\n",
    "print(\"b: \", lr.linear.weight.data)\n",
    "y_pred = lr.forward(x)\n",
    "cost = getMSE(y_pred, y, w, lambd)\n",
    "print(\"Cost: \", cost)\n",
    "cost.backward()\n",
    "dw, db = lr.linear.weight.grad, lr.linear.bias.grad\n",
    "print(\"dw: \", dw)\n",
    "print(\"db: \", db)\n",
    "\n",
    "# grad checking\n",
    "checkGrad(lr, x, y, lambd)"
   ]
  },
  {
   "cell_type": "markdown",
   "metadata": {},
   "source": [
    "### Learned model"
   ]
  },
  {
   "cell_type": "code",
   "execution_count": 63,
   "metadata": {},
   "outputs": [],
   "source": [
    "def fitData(x, y, d, sigma, lambd, learning_rate=1e-1, itera=1000, n_test=1000, check_grad=False):  \n",
    "    # create polynomial x matrix\n",
    "    x = polynomialx(x, d)\n",
    "    \n",
    "    # keep track of cost for testing\n",
    "    cost_hist = []\n",
    "    it_hist = []\n",
    "    \n",
    "    lr = LrModule(d)\n",
    "    \n",
    "    for i in range(itera):\n",
    "        if i == 500: learning_rate=1e-2\n",
    "            \n",
    "        lr.zero_grad()\n",
    "        \n",
    "        # Forward\n",
    "        y_pred = lr.forward(x)\n",
    "        \n",
    "        # loss\n",
    "        w = lr.linear.weight\n",
    "        #print(w)\n",
    "        cost = getMSE(y_pred, y, w, lambd)\n",
    "        \n",
    "        # Backward for derivative\n",
    "        cost.backward()\n",
    "        \n",
    "        # Gradient checking\n",
    "        if check_grad and i>20:\n",
    "            checkGrad(lr, x, y, lambd)\n",
    "            break\n",
    "        \n",
    "        # Update gradient\n",
    "        lr.linear.weight.data -= learning_rate*lr.linear.weight.grad.data\n",
    "        lr.linear.bias.data -= learning_rate*lr.linear.bias.grad.data\n",
    "        \n",
    "        # Save cost history for testing\n",
    "        cost_hist.append(cost.detach().numpy())\n",
    "        it_hist.append(i)\n",
    "    \n",
    "    w = lr.linear.weight.data\n",
    "    #print(w)\n",
    "    # Calculate Ein\n",
    "    Ein = getMSE(lr.forward(x), y, w, lambd)\n",
    "    \n",
    "    # Create test dataset\n",
    "    x_test, y_test = getData(n_test, sigma)\n",
    "    \n",
    "    # Create x_test dimension d\n",
    "    x_test = polynomialx(x_test, d)\n",
    "    \n",
    "    # Calculate Eout\n",
    "    Eout = getMSE(lr.forward(x_test), y_test, w, lambd)\n",
    "    \n",
    "    return Ein.detach().numpy(), Eout.detach().numpy(), lr, [it_hist, cost_hist]"
   ]
  },
  {
   "cell_type": "code",
   "execution_count": 64,
   "metadata": {},
   "outputs": [
    {
     "name": "stdout",
     "output_type": "stream",
     "text": [
      "Ein:  1.0042732613423575\n",
      "Eout:  1.137771562866612\n",
      "y vs y_pred:\n"
     ]
    },
    {
     "data": {
      "image/png": "[encoded data removed]",
      "text/plain": [
       "<Figure size 432x288 with 1 Axes>"
      ]
     },
     "metadata": {},
     "output_type": "display_data"
    },
    {
     "name": "stdout",
     "output_type": "stream",
     "text": [
      "Loss vs iterations:\n"
     ]
    },
    {
     "data": {
      "image/png": "[encoded data removed]",
      "text/plain": [
       "<Figure size 432x288 with 1 Axes>"
      ]
     },
     "metadata": {},
     "output_type": "display_data"
    }
   ],
   "source": [
    "# Test fitData \n",
    "d, sigma, n, lambd = 4, 1, 50, 1e-05\n",
    "x, y = getData(n,sigma)\n",
    "#x2, y2 = getData(n, sigma)\n",
    "Ein, Eout, lr, plot_data = fitData(x, y, d, sigma, lambd, check_grad=False)\n",
    "\n",
    "x_poly = polynomialx(x, d)\n",
    "y_pred = lr.forward(x_poly)\n",
    "\n",
    "print(\"Ein: \", Ein)\n",
    "print(\"Eout: \", Eout)\n",
    "\n",
    "print(\"y vs y_pred:\")\n",
    "plt.scatter(x.detach().numpy(), y.detach().numpy())\n",
    "#plt.scatter(x2.detach().numpy(), y2.detach().numpy())\n",
    "plt.scatter(x.detach().numpy(), y_pred.detach().numpy())\n",
    "plt.show()\n",
    "\n",
    "xx, yy = plot_data\n",
    "print(\"Loss vs iterations:\")\n",
    "plt.scatter(xx, yy)\n",
    "plt.show()"
   ]
  },
  {
   "cell_type": "markdown",
   "metadata": {},
   "source": [
    "### Experiments"
   ]
  },
  {
   "cell_type": "code",
   "execution_count": 65,
   "metadata": {},
   "outputs": [],
   "source": [
    "def experiment(n, d, sigma, lambd, trials=20, n_test=1000):\n",
    "    \n",
    "    # initialize\n",
    "    Ein_hist, Eout_hist = np.array([]), np.array([])\n",
    "    w_hist, b_hist = np.empty([d, 0]), np.array([])\n",
    "\n",
    "    for trail in range(trials):\n",
    "        x, y = getData(n, sigma)\n",
    "        Ein, Eout, lr, plot_data = fitData(x, y, d, sigma, lambd)\n",
    "        Ein_hist = np.append(Ein_hist, [Ein])\n",
    "        Eout_hist = np.append(Eout_hist, [Eout])\n",
    "\n",
    "        if d != 0: w_hist = np.append(w_hist, lr.linear.weight.data.detach().numpy().reshape(-1,1), axis=1)\n",
    "        b_hist = np.append(b_hist, lr.linear.bias.data.detach().numpy().reshape(-1,1))\n",
    "    \n",
    "    # Average\n",
    "    Ein_avg = np.mean(Ein_hist)\n",
    "    Eout_avg = np.mean(Eout_hist)\n",
    "    if d != 0: w_avg = (1/trials)*np.sum(w_hist, axis=1).reshape(1,d)\n",
    "    b_avg = np.mean(b_hist)\n",
    "    \n",
    "    # Create test dataset\n",
    "    x_test, y_test = getData(n_test, sigma)\n",
    "    \n",
    "    # Create x_test dimension d\n",
    "    x_test = polynomialx(x_test, d)\n",
    "    \n",
    "    # Ebias\n",
    "    if d == 0:\n",
    "        w_avg = torch.from_numpy(np.zeros((1,1)))\n",
    "    else:\n",
    "        w_avg = torch.from_numpy(w_avg)\n",
    "\n",
    "    b_avg = torch.Tensor([b_avg])\n",
    "    lr.linear.weight.data = w_avg\n",
    "    lr.linear.bias.data = b_avg\n",
    "    Ebias = getMSE(lr.forward(x_test), y_test, w_avg, lambd)\n",
    "    Ebias = Ebias.detach().numpy()\n",
    "    Ebias = float(Ebias)\n",
    "    \n",
    "    return Ein_avg, Eout_avg, Ebias, w_avg"
   ]
  },
  {
   "cell_type": "code",
   "execution_count": 66,
   "metadata": {},
   "outputs": [
    {
     "name": "stdout",
     "output_type": "stream",
     "text": [
      "Ein_avg:  1.0415192055163913\n",
      "Eout_avg:  1.1532126156716493\n",
      "Ebias:  1.0442176734465205\n",
      "w_avg:  tensor([[-2.8727, -0.0093,  1.5530,  2.2437]])\n"
     ]
    }
   ],
   "source": [
    "# Test experiment \n",
    "d, sigma, n, lambd = 4, 1, 50, -1e-05\n",
    "Ein_avg, Eout_avg, Ebias, w_avg = experiment(n, d, sigma, lambd)\n",
    "\n",
    "print(\"Ein_avg: \", Ein_avg)\n",
    "print(\"Eout_avg: \", Eout_avg)\n",
    "print(\"Ebias: \", Ebias)\n",
    "print(\"w_avg: \", w_avg)"
   ]
  },
  {
   "cell_type": "markdown",
   "metadata": {},
   "source": [
    "### Initialize parameters for experiment\n",
    "The experiment runs through combinations of different sample sizes (N), degree complexity (d), and noise level (sigma). Different regularization rate \"lamba\" are also used. Lambda is 0 if regularization is not used."
   ]
  },
  {
   "cell_type": "code",
   "execution_count": 67,
   "metadata": {},
   "outputs": [
    {
     "name": "stdout",
     "output_type": "stream",
     "text": [
      "441\n"
     ]
    }
   ],
   "source": [
    "# Initialize\n",
    "bigN = [2, 5, 10, 20, 50, 100, 200]\n",
    "deg = list(range(0,21))\n",
    "sigmas = [0.01, 0.1, 1]\n",
    "lambds = [-1e-05, 0, 1e-05]\n",
    "\n",
    "'''\n",
    "# Test\n",
    "lambd = 5e-10\n",
    "bigN = [10, 100]\n",
    "deg = [4, 20]\n",
    "sigmas = [0.01, 0.1, 1]\n",
    "'''\n",
    "\n",
    "numCombinations = len(bigN)*len(deg)*len(sigmas)\n",
    "print(numCombinations)"
   ]
  },
  {
   "cell_type": "code",
   "execution_count": 69,
   "metadata": {},
   "outputs": [
    {
     "name": "stdout",
     "output_type": "stream",
     "text": [
      "Number combinations:  441\n"
     ]
    }
   ],
   "source": [
    "# Run experiments\n",
    "\n",
    "experiments = []\n",
    "cntCombinations = 0\n",
    "print(\"Number combinations: \", numCombinations)\n",
    "\n",
    "for lambd in lambds:\n",
    "    for n in bigN:\n",
    "        for d in deg:\n",
    "            for sigma in sigmas:\n",
    "                cntCombinations+=1\n",
    "                Ein_avg, Eout_avg, Ebias, w_avg = experiment(n, d, sigma, lambd, trials=20)\n",
    "\n",
    "                print(\"Experiment \", cntCombinations)\n",
    "                print(\"Inputs N, d, sigma, lambd: %s, %s, %s, %s\" % (n, d, sigma, lambd))\n",
    "                print(\"%s, %s, %s\" % (Ein_avg, Eout_avg, Ebias))\n",
    "                print(w_avg)\n",
    "                experiments.append([n, d, sigma, Ein_avg, Eout_avg, Ebias])\n",
    "\n",
    "    print(\"done\")\n",
    "    #'''\n",
    "    # save experiment\n",
    "    with open(\".\\experiments\\experiments_lambd_\"+str(lambd), 'w', encoding=\"utf-8\") as fout:\n",
    "        pprint(experiments, fout)\n",
    "    #'''"
   ]
  },
  {
   "cell_type": "code",
   "execution_count": null,
   "metadata": {},
   "outputs": [],
   "source": []
  }
 ],
 "metadata": {
  "kernelspec": {
   "display_name": "Python 3",
   "language": "python",
   "name": "python3"
  },
  "language_info": {
   "codemirror_mode": {
    "name": "ipython",
    "version": 3
   },
   "file_extension": ".py",
   "mimetype": "text/x-python",
   "name": "python",
   "nbconvert_exporter": "python",
   "pygments_lexer": "ipython3",
   "version": "3.6.5"
  }
 },
 "nbformat": 4,
 "nbformat_minor": 2
}
