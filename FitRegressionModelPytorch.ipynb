{
 "cells": [
  {
   "cell_type": "markdown",
   "metadata": {},
   "source": [
    "# CSI 5238 Homework Exercise 1"
   ]
  },
  {
   "cell_type": "code",
   "execution_count": 1,
   "metadata": {},
   "outputs": [],
   "source": [
    "import numpy as np\n",
    "import matplotlib.pyplot as plt\n",
    "from pprint import pprint\n",
    "import torch\n",
    "import torch.nn as nn\n",
    "from torch.autograd import Variable\n",
    "from sklearn import preprocessing\n",
    "torch.set_default_tensor_type('torch.DoubleTensor')"
   ]
  },
  {
   "cell_type": "markdown",
   "metadata": {},
   "source": [
    "### Generate input and output\n",
    "Generate random input x between 0 and 1 exclusively, and generate out using function f(x)."
   ]
  },
  {
   "cell_type": "code",
   "execution_count": 2,
   "metadata": {},
   "outputs": [],
   "source": [
    "def gaussianRan(sigma, mu=0):\n",
    "    # standard normal distribution of mean 0 variance 1\n",
    "    # For random samples from N(\\mu, \\sigma^2), use\n",
    "    return sigma*np.random.randn() + mu"
   ]
  },
  {
   "cell_type": "markdown",
   "metadata": {},
   "source": [
    "Test gaussian random distribution."
   ]
  },
  {
   "cell_type": "code",
   "execution_count": 3,
   "metadata": {},
   "outputs": [
    {
     "data": {
      "image/png": "[encoded data removed]",
      "text/plain": [
       "<Figure size 432x288 with 1 Axes>"
      ]
     },
     "metadata": {},
     "output_type": "display_data"
    }
   ],
   "source": [
    "n, sigma = 100, 0.1\n",
    "x = np.array([gaussianRan(sigma) for x in range(n)])\n",
    "\n",
    "bins = int(n/5)\n",
    "plt.hist(x, bins)\n",
    "plt.show()"
   ]
  },
  {
   "cell_type": "code",
   "execution_count": 4,
   "metadata": {},
   "outputs": [],
   "source": [
    "def functionx(x, sigma):\n",
    "    return np.cos(2*np.pi*x) + gaussianRan(sigma)"
   ]
  },
  {
   "cell_type": "code",
   "execution_count": 5,
   "metadata": {},
   "outputs": [
    {
     "data": {
      "image/png": "[encoded data removed]",
      "text/plain": [
       "<Figure size 432x288 with 1 Axes>"
      ]
     },
     "metadata": {},
     "output_type": "display_data"
    }
   ],
   "source": [
    "# Test functionx\n",
    "n, sigma = 50, 1\n",
    "x = np.random.uniform(low=0, high=1, size=(n,1))\n",
    "y = functionx(x, sigma)\n",
    "\n",
    "bins = int(n/5)\n",
    "plt.hist(y, bins)\n",
    "plt.show()"
   ]
  },
  {
   "cell_type": "code",
   "execution_count": 6,
   "metadata": {},
   "outputs": [],
   "source": [
    "def getData(n, sigma, is_numpy=False, preprocess=False):\n",
    "    x = np.random.uniform(low=0, high=1, size=(n,1))\n",
    "    y = functionx(x, sigma)\n",
    "    \n",
    "    if preprocess:\n",
    "        x = preprocessing.scale(x)\n",
    "        y = preprocessing.scale(y)\n",
    "    \n",
    "    if is_numpy:\n",
    "        return x, y\n",
    "    return Variable(torch.from_numpy(x)), Variable(torch.from_numpy(y))"
   ]
  },
  {
   "cell_type": "markdown",
   "metadata": {},
   "source": [
    "Graph input and output results."
   ]
  },
  {
   "cell_type": "code",
   "execution_count": 7,
   "metadata": {},
   "outputs": [
    {
     "data": {
      "image/png": "[encoded data removed]",
      "text/plain": [
       "<Figure size 432x288 with 1 Axes>"
      ]
     },
     "metadata": {},
     "output_type": "display_data"
    }
   ],
   "source": [
    "n = 50\n",
    "sigma = 0.01\n",
    "x, y = getData(n, sigma, is_numpy=True, preprocess=False)\n",
    "\n",
    "plt.scatter(x, y)\n",
    "plt.show()"
   ]
  },
  {
   "cell_type": "markdown",
   "metadata": {},
   "source": [
    "### Define loss function, polynomial feature function, linear regression model"
   ]
  },
  {
   "cell_type": "code",
   "execution_count": 247,
   "metadata": {},
   "outputs": [],
   "source": [
    "def getMSE(y_pred, y, w, lambd, is_numpy=False):\n",
    "    if is_numpy:\n",
    "        m = w.size\n",
    "        return np.mean((y_pred - y)**2) + lambd*(1/m)*np.mean((np.dot(w.T, w)))\n",
    "    \n",
    "    m = w.size()[1]\n",
    "    return torch.mean((y_pred - y)**2) + lambd*(1/m)*((torch.mm(w.t(), w))[0][0])"
   ]
  },
  {
   "cell_type": "code",
   "execution_count": 162,
   "metadata": {},
   "outputs": [
    {
     "name": "stdout",
     "output_type": "stream",
     "text": [
      "tensor(2.6250)\n",
      "tensor(0.6250)\n",
      "tensor(2.)\n"
     ]
    }
   ],
   "source": [
    "# Test getMSE\n",
    "y_pred = torch.Tensor([[1.5],[1]])\n",
    "y = torch.Tensor([[2],[2]])\n",
    "w = torch.Tensor([[1],[1]])\n",
    "lambd = 1\n",
    "print(getMSE(y_pred, y, w, lambd))\n",
    "print(torch.mean((y_pred - y)**2))\n",
    "print(torch.mm(w.t(), w)[0][0])"
   ]
  },
  {
   "cell_type": "code",
   "execution_count": 143,
   "metadata": {},
   "outputs": [],
   "source": [
    "def polynomialx(x, d, is_numpy=False):\n",
    "    if d == 0:\n",
    "        x = np.zeros_like(x)\n",
    "    else:\n",
    "        poly = preprocessing.PolynomialFeatures(d, include_bias=False)\n",
    "        x = poly.fit_transform(x)\n",
    "        \n",
    "    if is_numpy is False:\n",
    "        x = torch.from_numpy(x)\n",
    "    return x"
   ]
  },
  {
   "cell_type": "code",
   "execution_count": 144,
   "metadata": {},
   "outputs": [
    {
     "name": "stdout",
     "output_type": "stream",
     "text": [
      "tensor([[0],\n",
      "        [0],\n",
      "        [0]], dtype=torch.int32)\n"
     ]
    }
   ],
   "source": [
    "# Test polynomialx\n",
    "x = np.array([[2], [3], [4]])\n",
    "d = 0\n",
    "print(polynomialx(x,d))"
   ]
  },
  {
   "cell_type": "code",
   "execution_count": 145,
   "metadata": {},
   "outputs": [],
   "source": [
    "class LrModule(nn.Module):\n",
    "\n",
    "    def __init__(self, d):\n",
    "        super(LrModule, self).__init__()\n",
    "        if d == 0: d = 1\n",
    "        self.linear = nn.Linear(d,1)\n",
    "\n",
    "    def forward(self, x):\n",
    "        # linear\n",
    "        return self.linear(x)"
   ]
  },
  {
   "cell_type": "code",
   "execution_count": 146,
   "metadata": {},
   "outputs": [
    {
     "name": "stdout",
     "output_type": "stream",
     "text": [
      "Linear(in_features=1, out_features=1, bias=True)\n"
     ]
    }
   ],
   "source": [
    "# Check LrModule\n",
    "lr = LrModule(0)\n",
    "print(lr.linear)"
   ]
  },
  {
   "cell_type": "code",
   "execution_count": 147,
   "metadata": {},
   "outputs": [],
   "source": [
    "# Test getMSE\n",
    "x = np.array([[1,2], [1,3], [1,4], [1,5]])\n",
    "y = np.array([[7], [6], [5], [4]])\n",
    "w = np.array([[0.1], [0.2]])\n",
    "y_pred = np.dot(x,w)\n",
    "res = getMSE(y_pred, y, w, lambd=0, is_numpy=True)\n",
    "assert res == 23.89"
   ]
  },
  {
   "cell_type": "markdown",
   "metadata": {},
   "source": [
    "### Gradient Checking"
   ]
  },
  {
   "cell_type": "code",
   "execution_count": 148,
   "metadata": {},
   "outputs": [],
   "source": [
    "def gradApprox(lr, x, y, lambd, e=1e-2):\n",
    "    w = lr.linear.weight.data\n",
    "    w = w.detach().numpy()\n",
    "    y = y.detach().numpy()\n",
    "    dwa = np.zeros_like(w)\n",
    "    \n",
    "    i = 0\n",
    "    for val in w[0]:\n",
    "        wp, wm = w.copy(), w.copy()\n",
    "\n",
    "        wp[0][i] += e\n",
    "        wm[0][i] -= e\n",
    "        \n",
    "        lr.linear.weight.data = torch.from_numpy(wp)\n",
    "        y_pred = lr.forward(x)\n",
    "        y_pred = y_pred.detach().numpy()\n",
    "        jp = getMSE(y_pred, y, wp, lambd, is_numpy=True)\n",
    "        \n",
    "        lr.linear.weight.data = torch.from_numpy(wm)\n",
    "        y_pred = lr.forward(x)\n",
    "        y_pred = y_pred.detach().numpy()\n",
    "        jm = getMSE(y_pred, y, wm, lambd, is_numpy=True)\n",
    "\n",
    "        dwa[0][i] = (jp - jm)/(2*e)\n",
    "        i += 1\n",
    "    \n",
    "    return dwa"
   ]
  },
  {
   "cell_type": "code",
   "execution_count": 165,
   "metadata": {},
   "outputs": [],
   "source": [
    "def checkGrad(lr, x, y, lambd):\n",
    "    dw = lr.linear.weight.grad\n",
    "    dw = dw.detach().numpy()\n",
    "    dwa = gradApprox(lr, x, y, lambd)\n",
    "    print(\"*****************************************\")\n",
    "    print(\"dw: \", dw)\n",
    "    print(\"dwa:\", dwa)\n",
    "    e = np.linalg.norm(dw-dwa)/(np.linalg.norm(dw) + np.linalg.norm(dwa))\n",
    "    print(\"Grad approx error: \", e)\n",
    "    print(\"*****************************************\")"
   ]
  },
  {
   "cell_type": "code",
   "execution_count": 168,
   "metadata": {},
   "outputs": [
    {
     "name": "stdout",
     "output_type": "stream",
     "text": [
      "w:  tensor([[0.2000, 0.3000, 0.4000]])\n",
      "b:  tensor([[0.2000, 0.3000, 0.4000]])\n",
      "Cost:  tensor(2.7067, grad_fn=<ThAddBackward>)\n",
      "dw:  tensor([[-17.4667,  -8.6667, -15.8667]])\n",
      "db:  tensor([-2.8000])\n",
      "*****************************************\n",
      "dw:  [[-17.46666667  -8.66666667 -15.86666667]]\n",
      "dwa: [[-17.46666667  -8.66666667 -15.86666667]]\n",
      "Grad approx error:  2.6439547406212775e-16\n",
      "*****************************************\n"
     ]
    }
   ],
   "source": [
    "# Test LrModule gradient\n",
    "lr = LrModule(3)\n",
    "x = torch.Tensor([[8,1,6],[3,5,7],[4,9,2]])\n",
    "y = torch.Tensor([[7],[6],[5]])\n",
    "w = torch.Tensor([[0.2, 0.3, 0.4]])\n",
    "b = torch.Tensor([0.1])\n",
    "lambd = 0\n",
    "learning_rate=1e-2\n",
    "\n",
    "lr.linear.weight.data = w\n",
    "lr.linear.bias.data = b\n",
    "print(\"w: \", lr.linear.weight.data)\n",
    "print(\"b: \", lr.linear.weight.data)\n",
    "y_pred = lr.forward(x)\n",
    "cost = getMSE(y_pred, y, w, lambd)\n",
    "print(\"Cost: \", cost)\n",
    "cost.backward()\n",
    "dw, db = lr.linear.weight.grad, lr.linear.bias.grad\n",
    "print(\"dw: \", dw)\n",
    "print(\"db: \", db)\n",
    "\n",
    "# grad checking\n",
    "checkGrad(lr, x, y, lambd)"
   ]
  },
  {
   "cell_type": "markdown",
   "metadata": {},
   "source": [
    "### Learned model"
   ]
  },
  {
   "cell_type": "code",
   "execution_count": 281,
   "metadata": {},
   "outputs": [],
   "source": [
    "def fitData(x, y, d, sigma, lambd=0, learning_rate=1e-1, itera=1000, n_test=1000, check_grad=False):  \n",
    "    # create polynomial x matrix\n",
    "    x = polynomialx(x, d)\n",
    "    \n",
    "    # keep track of cost for testing\n",
    "    cost_hist = []\n",
    "    it_hist = []\n",
    "    \n",
    "    lr = LrModule(d)\n",
    "    \n",
    "    for i in range(itera):\n",
    "        #if i == 100:\n",
    "        #    learning_rate = 1e-1\n",
    "        # clear grads\n",
    "        lr.zero_grad()\n",
    "        \n",
    "        # Forward\n",
    "        y_pred = lr.forward(x)\n",
    "        \n",
    "        # loss\n",
    "        w = lr.linear.weight\n",
    "        #print(w)\n",
    "        cost = getMSE(y_pred, y, w, lambd)\n",
    "        \n",
    "        # Backward for derivative\n",
    "        cost.backward()\n",
    "        \n",
    "        # Gradient checking\n",
    "        if check_grad and i>20:\n",
    "            checkGrad(lr, x, y, lambd)\n",
    "            break\n",
    "        \n",
    "        # Update gradient\n",
    "        lr.linear.weight.data -= learning_rate*lr.linear.weight.grad.data\n",
    "        lr.linear.bias.data -= learning_rate*lr.linear.bias.grad.data\n",
    "        \n",
    "        # Save cost history for testing\n",
    "        cost_hist.append(cost.detach().numpy())\n",
    "        it_hist.append(i)\n",
    "    \n",
    "    w = lr.linear.weight.data\n",
    "    \n",
    "    # Calculate Ein\n",
    "    Ein = getMSE(lr.forward(x), y, w, lambd)\n",
    "    \n",
    "    # Create test dataset\n",
    "    x_test, y_test = getData(n_test, sigma)\n",
    "    \n",
    "    # Create x_test dimension d\n",
    "    x_test = polynomialx(x_test, d)\n",
    "    \n",
    "    # Calculate Eout\n",
    "    Eout = getMSE(lr.forward(x_test), y_test, w, lambd)\n",
    "    \n",
    "    return Ein.detach().numpy(), Eout.detach().numpy(), lr, [it_hist, cost_hist]"
   ]
  },
  {
   "cell_type": "code",
   "execution_count": 282,
   "metadata": {},
   "outputs": [
    {
     "name": "stdout",
     "output_type": "stream",
     "text": [
      "y_pred and y\n"
     ]
    },
    {
     "data": {
      "image/png": "[encoded data removed]",
      "text/plain": [
       "<Figure size 432x288 with 1 Axes>"
      ]
     },
     "metadata": {},
     "output_type": "display_data"
    },
    {
     "name": "stdout",
     "output_type": "stream",
     "text": [
      "Ein:  0.06756576112922921\n",
      "Eout:  0.1713353733847283\n",
      "Loss function vs iterations\n"
     ]
    },
    {
     "data": {
      "image/png": "[encoded data removed]",
      "text/plain": [
       "<Figure size 432x288 with 1 Axes>"
      ]
     },
     "metadata": {},
     "output_type": "display_data"
    }
   ],
   "source": [
    "# Test fitData \n",
    "d, sigma, n, lambd = 19, 0.1, 5, 0.005\n",
    "x, y = getData(n,sigma)\n",
    "Ein, Eout, lr, plot_data = fitData(x, y, d, sigma, lambd=lambd, check_grad=False)\n",
    "\n",
    "x_poly = polynomialx(x, d)\n",
    "y_pred = lr.forward(x_poly)\n",
    "\n",
    "print(\"y_pred and y\")\n",
    "plt.scatter(x.detach().numpy(), y.detach().numpy())\n",
    "plt.scatter(x.detach().numpy(), y_pred.detach().numpy())\n",
    "plt.show()\n",
    "\n",
    "print(\"Ein: \", Ein)\n",
    "print(\"Eout: \", Eout)\n",
    "\n",
    "xx, yy = plot_data\n",
    "print(\"Loss function vs iterations\")\n",
    "plt.scatter(xx, yy)\n",
    "plt.show()"
   ]
  },
  {
   "cell_type": "markdown",
   "metadata": {},
   "source": [
    "### Experiments"
   ]
  },
  {
   "cell_type": "code",
   "execution_count": 283,
   "metadata": {},
   "outputs": [],
   "source": [
    "def experiment(n, d, sigma, lambd, trials=20, n_test=1000):\n",
    "    \n",
    "    # initialize\n",
    "    Ein_hist, Eout_hist = np.array([]), np.array([])\n",
    "    w_hist, b_hist = np.empty([d, 0]), np.array([])\n",
    "\n",
    "    for trail in range(trials):\n",
    "        Ein = 10\n",
    "        while(Ein>=10):\n",
    "            x, y = getData(n, sigma)\n",
    "            Ein, Eout, lr, plot_data = fitData(x, y, d, sigma, lambd=lambd)\n",
    "            Ein_hist = np.append(Ein_hist, [Ein])\n",
    "            Eout_hist = np.append(Eout_hist, [Eout])\n",
    "\n",
    "            if d != 0: w_hist = np.append(w_hist, lr.linear.weight.data.detach().numpy().reshape(-1,1), axis=1)\n",
    "            b_hist = np.append(b_hist, lr.linear.bias.data.detach().numpy().reshape(-1,1))\n",
    "    \n",
    "    # Average\n",
    "    Ein_avg = np.mean(Ein_hist)\n",
    "    Eout_avg = np.mean(Eout_hist)\n",
    "    if d != 0: w_avg = (1/trials)*np.sum(w_hist, axis=1).reshape(1,d)\n",
    "    b_avg = np.mean(b_hist)\n",
    "    \n",
    "    # Create test dataset on averaged polynomials\n",
    "    x_test, y_test = getData(n_test, sigma)\n",
    "    \n",
    "    # Create x_test dimension d\n",
    "    x_test = polynomialx(x_test, d)\n",
    "    \n",
    "    # Ebias\n",
    "    if d == 0:\n",
    "        w_avg = torch.from_numpy(np.zeros((1,1)))\n",
    "    else:\n",
    "        w_avg = torch.from_numpy(w_avg)\n",
    "#     print(w_avg)\n",
    "    b_avg = torch.Tensor([b_avg])\n",
    "    lr.linear.weight.data = w_avg\n",
    "    lr.linear.bias.data = b_avg\n",
    "    Ebias = getMSE(lr.forward(x_test), y_test, w_avg, lambd)\n",
    "    Ebias = Ebias.detach().numpy()\n",
    "    Ebias = float(Ebias)\n",
    "    \n",
    "    return Ein_avg, Eout_avg, Ebias"
   ]
  },
  {
   "cell_type": "code",
   "execution_count": 284,
   "metadata": {},
   "outputs": [
    {
     "name": "stdout",
     "output_type": "stream",
     "text": [
      "Ein_avg:  0.3787055424008372\n",
      "Eout_avg:  0.601510813162223\n",
      "Ebias:  0.5201234083430518\n"
     ]
    }
   ],
   "source": [
    "# Test experiment \n",
    "d, sigma, n, lambd = 1, 0.01, 5, 1\n",
    "Ein_avg, Eout_avg, Ebias = experiment(n, d, sigma, lambd)\n",
    "\n",
    "print(\"Ein_avg: \", Ein_avg)\n",
    "print(\"Eout_avg: \", Eout_avg)\n",
    "print(\"Ebias: \", Ebias)"
   ]
  },
  {
   "cell_type": "markdown",
   "metadata": {},
   "source": [
    "### Initialize parameters for experiment\n",
    "The experiment runs through combinations of different sized input, deg of features, and sigmas for f(x). A regularization rate lamba is also set. Lambda is 0 if regularization is not used."
   ]
  },
  {
   "cell_type": "code",
   "execution_count": 285,
   "metadata": {},
   "outputs": [
    {
     "name": "stdout",
     "output_type": "stream",
     "text": [
      "441\n"
     ]
    }
   ],
   "source": [
    "bigN = [2, 5, 10, 20, 50, 100, 200]\n",
    "deg = list(range(0,21))\n",
    "sigmas = [0.01, 0.1, 1]\n",
    "lambd = 0.005\n",
    "# bigN = [50]\n",
    "# deg = [4]\n",
    "# sigmas = [1]\n",
    "\n",
    "numCombinations = len(bigN)*len(deg)*len(sigmas)\n",
    "print(numCombinations)"
   ]
  },
  {
   "cell_type": "code",
   "execution_count": null,
   "metadata": {},
   "outputs": [
    {
     "name": "stdout",
     "output_type": "stream",
     "text": [
      "Number combinations:  441\n",
      "0.32805160819443524, 0.7456470110623592, 0.5262949708411658\n",
      "0.3703036078262466, 0.7753096423322364, 0.5855393243579957\n",
      "0.13077662996310996, 2.6750682776428603, 2.0667947269491447\n",
      "0.034486083927144945, 1.1955038813462395, 0.7577915053059817\n",
      "0.048478708770680334, 1.4414144032633842, 0.8708945616507603\n",
      "0.039027615827672474, 4.503101528740088, 1.754832769648572\n",
      "0.005267407871691223, 1.4420103880630175, 0.7776509184825768\n",
      "0.011742891203674806, 2.074497418602628, 0.8990528778610477\n",
      "0.007309283895637999, 3.5130847336273496, 2.0258700566321375\n",
      "0.0070745144150202765, 2.139073690093867, 0.7767166863660177\n",
      "0.007490613385939124, 2.6795837042458297, 1.0938627894815955\n",
      "0.0029541119154758936, 2.162132206457624, 0.9864632935114904\n",
      "0.007619078090899023, 1.8792463707638958, 0.8737310649146834\n",
      "0.004880962488369133, 2.8399688556411826, 1.0875922232086512\n",
      "0.0013530607678594873, 8.23945947280839, 0.7960593920307318\n",
      "0.0046048145273397114, 1.4853546068934502, 0.5353099527505639\n",
      "0.004593370888410575, 2.0669472908333377, 0.6713095950845138\n",
      "0.0035315781544722814, 3.457571342884985, 3.8458414798070333\n",
      "0.004630183624805642, 1.6643289449239973, 0.5618067898628682\n",
      "0.0017728548426720904, 1.4743803963613513, 0.3983181832973727\n",
      "0.005026481000084154, 3.7784317826758596, 1.6210072509396554\n",
      "0.00248122987831557, 2.170070031029142, 0.6894713265929411\n",
      "0.003435202781593951, 2.797355677139673, 1.319492785236654\n",
      "0.0023299588928451685, 6.295590090013203, 0.5158092466539158\n",
      "0.0034445970593923562, 2.4070116198474008, 0.9680752315959488\n",
      "0.0003775777327511228, 1.0428399731871552, 0.5065411535346492\n",
      "0.006922732865223766, 3.2279102634377943, 0.8314181688623736\n",
      "0.004220012142675442, 1.7928767493467936, 0.6354184750980336\n",
      "0.0002896966838946851, 1.0762738873115512, 0.3877490341522971\n",
      "0.0014120967712555354, 5.449275836754798, 0.6063270926057172\n",
      "0.006798062595403298, 3.627389427842045, 2.355064846600781\n",
      "0.003518809943044348, 1.650454157507672, 0.7100526454624887\n",
      "0.005075412240769084, 2.878619361131618, 0.8327609016977132\n",
      "0.002357082889115388, 2.19106883925411, 0.49328813777281283\n",
      "0.00019329314677285345, 1.085516114534282, 0.39301410707384504\n",
      "0.0037890560343720467, 2.1720974714070946, 0.42766174857296946\n",
      "0.0017461591950703736, 2.733749072156999, 0.960544020391264\n",
      "0.004650172741678825, 3.0678277935035156, 1.2576602541578705\n",
      "0.002858040643278283, 3.2251905275578503, 1.6972087281419521\n",
      "0.002506870072503006, 4.118332111051776, 2.3957393631962822\n",
      "0.0023091086363643903, 2.2363733824033303, 1.1986978747526411\n",
      "0.005963435046501138, 3.10391336730682, 1.6423885029281513\n",
      "0.0006244559367069648, 2.101196067112419, 0.8162030775186407\n",
      "0.0019700100896967413, 2.8558153198407545, 0.978269328631231\n",
      "0.003322516404614771, 3.524405349699748, 5.616329283949683\n",
      "0.004815053398586991, 1.528260249180977, 0.46016407593910336\n",
      "0.0008196907781375035, 1.6209537960526348, 0.7637571653932153\n",
      "0.0038739754105224303, 1.9988803458679307, 4.533825800592633\n",
      "0.001585114204570908, 2.67661178694115, 0.9710159166312331\n",
      "0.004043178530939864, 1.786480657741468, 0.7660047434291222\n",
      "0.0033869277574054626, 5.368981004450731, 0.49691031127821966\n",
      "0.004045829501824605, 1.4609068117808874, 0.4770347224668505\n",
      "0.005709245081052454, 1.9431166307610046, 0.746931694510462\n",
      "inf, inf, inf\n",
      "0.0013024862728752491, 1.5046346958669639, 0.4963581914936805\n",
      "0.0020220840179771436, 1.8946275145556257, 0.6640142511737144\n",
      "0.007822799052913625, 4.576897298591836, 0.5590946254588135\n",
      "0.0015883715690723642, 2.1017557497210495, 0.5588054309731366\n",
      "0.0006922329403533552, 1.7333041036439094, 0.33901874296519635\n",
      "0.0014237655423876578, 3.453045300694358, 1.5861809488685255\n",
      "0.003349190877520248, 3.085018876525928, 1.3175060806910361\n",
      "0.0024861864778399074, 2.534467237978899, 0.7164685309401225\n",
      "0.0016145355059704017, 1.7043293723185466, 1.1599157031837375\n",
      "0.40930374568473527, 0.6048559039233081, 0.5293116745166803\n",
      "0.3350558040638581, 0.5654257838736441, 0.5122167507498722\n",
      "0.47894869591148054, 3.1394710029655895, 6.180076868919771\n",
      "0.4273982563797487, 0.8980977946309998, 0.5311681018258402\n",
      "0.24409314090108442, 0.9036230966553003, 0.6762656204476708\n",
      "0.24958273689167423, 1.8286611048455406, 1.2265921040574717\n",
      "0.1287509561145837, 0.7105427863861664, 0.43358485979292094\n",
      "0.11534428769718626, 1.1942974213075617, 0.45757034402031194\n",
      "0.12787848864621068, 1.3722609379982782, 0.4229598399328976\n",
      "0.06434468313465133, 0.6236328673065547, 0.30002505688392206\n",
      "0.08885708279156472, 0.6040224282019113, 0.26257440969725543\n",
      "0.08064641597127206, 2.8082890973122216, 0.6729505646141665\n",
      "0.06828995516364363, 0.8726294974928439, 0.23828904186875385\n",
      "0.05116437121415213, 0.5490386912200459, 0.2499500710711626\n",
      "0.0822658623187278, 2.7128302812446785, 0.6569133236127982\n",
      "0.05445990502682896, 0.46271168012734165, 0.1407310527810029\n",
      "0.027115419366199635, 0.36849991659258763, 0.18420425200741672\n",
      "0.038288073124702275, 2.5502304236344058, 0.19723266856544847\n",
      "0.03842602559814872, 0.2594967813323426, 0.1334308324337923\n",
      "0.057414395964497225, 0.2947018352165728, 0.15138357810142436\n",
      "0.04605165780323256, 2.2186500658566066, 0.1772614401953707\n",
      "0.031186165133045285, 1.1885292578711737, 0.3190518223943936\n",
      "0.03549867970425583, 1.286740596462797, 0.24731722731487157\n",
      "0.0587338608195407, 2.4723460121529053, 3.5531700627688516\n",
      "0.04526393116194656, 1.362088274096013, 0.2195093089068679\n",
      "0.04322529989406535, 0.8082222168907961, 0.1634227202415601\n",
      "0.05925768355656843, 2.08933319690684, 3.039129194667833\n",
      "0.03304080688490375, 0.5997289964907755, 0.37087392039793343\n",
      "0.04331067291256123, 0.5233201426570437, 0.2494524170301773\n",
      "0.04689580817714565, 2.2471057571169895, 0.5129682279461466\n",
      "0.03709835880102601, 1.1838168071971016, 0.3421585122831989\n",
      "0.012990857865550534, 1.684671929437289, 0.3504832356981722\n",
      "0.047790017558038314, 3.324695910465109, 0.508332571848488\n",
      "0.05009534472889941, 0.4925166498908501, 0.18779639330045664\n",
      "0.03236029303858105, 1.515201890218585, 0.24124441362668594\n",
      "0.040632492739104305, 3.151951390629358, 3.6117999050685614\n",
      "0.03335694758688078, 0.7230830645786582, 0.2977364713170999\n",
      "0.0388387803327719, 1.3573771382294484, 0.21979676755304117\n",
      "0.026100101486529213, 1.5101234668736885, 0.5543899716307076\n",
      "0.03872806035465824, 0.6766110962761853, 0.24061966451309003\n",
      "0.04901797129659789, 1.1336811335825703, 0.2558143206536097\n",
      "0.023778142160702398, 2.955044219339456, 0.6601580302147009\n",
      "0.033796255340713316, 1.9637590890072976, 0.24853790627577016\n",
      "0.043520426846205336, 0.6286692368949715, 0.2674289408157015\n",
      "0.04116603964391355, 2.6145136029952702, 0.5006050829172091\n",
      "0.03550524696220612, 1.29768094972466, 1.0786771981609693\n",
      "0.03416164080355886, 0.4212306836772689, 0.14785626083176417\n",
      "0.0322660308380822, 1.821682193467972, 3.7351293444700686\n",
      "0.03593095748194436, 0.7928534854216567, 0.45823668094588227\n",
      "0.04539997361823628, 0.6378972716894996, 0.328155145980105\n",
      "0.05104342851183776, 1.6070076569587368, 5.302845068536707\n",
      "0.03817947988521407, 0.5047452805201604, 0.2197650141443229\n",
      "0.03635683192903123, 1.17135289367, 0.5718622234845615\n",
      "0.03962505237902243, 2.676592039281611, 0.9902389963500711\n",
      "0.026068879865722094, 1.5593507842887466, 0.29593530196139406\n",
      "0.03215224900741374, 0.8451423503267973, 0.1871471359938354\n",
      "0.038681295536743744, 3.881385043555203, 2.0943542396804062\n",
      "0.050126840856442145, 0.41229686054866965, 0.22680036287305952\n",
      "0.03389503020755062, 1.412669494536761, 0.303754054594203\n",
      "0.03500042209369074, 2.579518963042692, 2.754291096075239\n",
      "0.03411156911895068, 1.0673866473596778, 0.2232264387360952\n",
      "0.035645975436964177, 1.4811996969333725, 0.19761448166935322\n",
      "0.03589592423423223, 2.703388218494841, 1.3453121744616783\n",
      "0.43913080379717034, 0.5314161074983208, 0.5051277768150103\n",
      "0.4081232581860264, 0.5619203676952437, 0.49889326188622474\n",
      "0.43918714674815656, 1.6658691369845555, 0.6304281351055081\n",
      "0.33614712957385995, 0.7542481403868838, 0.6000270201677667\n",
      "0.3386708882809523, 0.7405550876748286, 0.5220597776898522\n",
      "0.42218283446553545, 1.8985994556350676, 0.5486809085515418\n",
      "0.19510575247991083, 0.46078437169868225, 0.2921970569980568\n",
      "0.22011306918523776, 0.4864783618971583, 0.3453330129779273\n",
      "0.21829118161294292, 2.8403131211224526, 8.268376171929493\n",
      "0.09958220397398813, 0.5076526236673854, 0.15612250172286632\n"
     ]
    },
    {
     "name": "stdout",
     "output_type": "stream",
     "text": [
      "0.09826767628139152, 0.39762514830548057, 0.17285607489611493\n",
      "0.10616191963392833, 1.6861195458675886, 1.2015331000476663\n",
      "0.08677807913928316, 0.1154512886326449, 0.09245690345025823\n",
      "0.08187732132068565, 0.19852869142058807, 0.12676083688700995\n",
      "0.0845434149909162, 1.5109941486083436, 0.9110765994415536\n",
      "0.06718974551414728, 0.17640609396432277, 0.11895075354761504\n",
      "0.07433936762144654, 0.19038951874046114, 0.11198500137834752\n",
      "0.0648829068805304, 1.679564192690438, 0.22026855659522168\n",
      "0.08032336355253747, 0.1986916871681314, 0.14544741830142988\n",
      "0.0677319088126643, 0.27262660983615794, 0.15461793003675292\n",
      "0.079048666782582, 3.5898904796935334, 1.5595525889938977\n",
      "0.06205167875249309, 0.2379981330991105, 0.1703003759554441\n",
      "0.07222963598237082, 0.28360639970083606, 0.17279685294357358\n",
      "0.07782992412042358, 1.454861670468742, 0.20944437527910523\n",
      "0.06384013085144825, 0.3882489081252435, 0.20417684845047487\n",
      "0.06851917291226207, 0.28140662366789354, 0.1777326159483446\n",
      "0.056435074813552345, 2.7425003638589738, 1.4793265022326754\n",
      "0.07289921364115137, 0.26862589699438816, 0.17713344281132026\n",
      "0.08660635656444564, 0.7238468047464748, 0.15846687867268983\n",
      "0.0704206587519898, 2.492340244750091, 0.5423695587221815\n",
      "0.06461515535365575, 0.33706763559658615, 0.1918275971421601\n",
      "0.058520338624326165, 0.6915894857747481, 0.18523220571747084\n",
      "0.059388185172950206, 1.407675636264418, 2.363959671656084\n",
      "0.06223447511582364, 0.49370447584214683, 0.28209335370124694\n",
      "0.0628095971442463, 0.4013185326318663, 0.2004404571757189\n",
      "0.058464805343049174, 1.2529353269899115, 0.3552564171713644\n",
      "0.06715531248895468, 0.3932931137814458, 0.23134557148699506\n",
      "0.05452108956324918, 0.6480038563419526, 0.25437027502247694\n",
      "0.04848165577903286, 1.5575084942255795, 0.20158610941052485\n",
      "0.06769025837446914, 0.3300409637381656, 0.15964692019422944\n",
      "0.05915944634516044, 0.26660845824032886, 0.14775692639819868\n",
      "0.057311587216482454, 1.0757566084172179, 2.263815229582747\n",
      "0.05346142856034343, 0.34222127455465623, 0.1791806934808755\n",
      "0.06314385697121426, 0.30892181832423277, 0.20736376036249937\n",
      "0.0555952343824319, 2.3855103252207153, 0.11809135950243149\n",
      "0.046717954358612576, 0.4849582067136759, 0.2210712605975784\n",
      "0.05096387702245351, 0.374980770504204, 0.1774732118941344\n",
      "0.05668799344754903, 2.934916770132246, 0.1168799830613477\n",
      "0.04687446465311982, 0.5252177701593844, 0.26294959857281935\n",
      "0.05184614879160435, 0.5655749182892027, 0.39223986784307296\n",
      "0.04870500423395213, 2.690073638170265, 1.9767329797933089\n",
      "0.05725773800168188, 0.2797418439382399, 0.15698976705486714\n",
      "0.0537228028399637, 0.21290113091264554, 0.1378542009036934\n",
      "0.04775652816600025, 2.0092441109013435, 1.6158895295316946\n",
      "0.049367656445056037, 0.2703595729937994, 0.1847456215306882\n",
      "0.05720523733315115, 0.5143565968146129, 0.30496867748446344\n",
      "0.043608395944427336, 2.1982856018086907, 6.077246174022459\n",
      "0.05154438291976543, 0.5539062353639381, 0.21949633586492823\n",
      "0.049577839316999196, 0.478949356377559, 0.22878777608460185\n",
      "0.04196867064355288, 3.3694091578853884, 3.089744230862009\n",
      "0.05171942610185496, 0.13331835077887405, 0.08649770892073294\n",
      "0.056364957165079256, 0.27688914252170016, 0.10338614392864912\n",
      "0.053171425747233825, 3.2839635816090826, 0.5434109111014878\n",
      "0.4592283153777328, 0.5354771027269914, 0.5025700790348686\n",
      "0.4478344212915021, 0.5222258606001838, 0.5329498480743153\n",
      "0.4738282387081495, 3.636412387627967, 0.6039669274250131\n",
      "0.39933430949001186, 0.5815940301399016, 0.5266669165896356\n",
      "0.4362235800531182, 0.5776898910722752, 0.508931181734278\n",
      "0.4929165173413909, 4.140207513585715, 1.2490007443497038\n",
      "0.2301865597452636, 0.2787537841868181, 0.255488282836658\n",
      "0.22847510444634303, 0.3059168212805731, 0.2608558933430288\n",
      "0.2232386623638769, 1.9210084010229185, 0.7434722005016708\n",
      "0.1097011080125034, 0.14886150918815877, 0.1316823935155534\n",
      "0.11864536826946122, 0.16510023018637468, 0.2068327795305378\n",
      "0.11112142799182648, 3.372593478958951, 0.8222001789032425\n",
      "0.09631369494050888, 0.11691436726846575, 0.10285763728811949\n",
      "0.08073798111135079, 0.14418836855732758, 0.13603421793221016\n",
      "0.08118946581202832, 1.3633215713189037, 3.1850387105631475\n",
      "0.09675493444619576, 0.12604285805263513, 0.11044513299622849\n",
      "0.08840843871460788, 0.14459657563516357, 0.11021999854697835\n",
      "0.08300721045228507, 2.7198091083525573, 4.210029778166633\n",
      "0.0884709138056974, 0.18807920097932185, 0.1575733171045359\n",
      "0.07958992516602927, 0.23728990386966986, 0.13727011203519707\n",
      "0.11662836414913605, 1.4378761149433186, 2.725213049428196\n",
      "0.11018555319627465, 0.13364017924370972, 0.11803844078380851\n",
      "0.08962799862356659, 0.21092614489293998, 0.15139025136193537\n",
      "0.09605696367450392, 1.9768907219897383, 0.7982503670459574\n",
      "0.09500134626874103, 0.17182008835218254, 0.11935081933531075\n",
      "0.08473123828341886, 0.19284568394601603, 0.14153836117780394\n",
      "0.08896502348274198, 1.078043842710124, 0.1393243970551825\n",
      "0.08215490687339592, 0.23929620679241714, 0.12860949891150325\n",
      "0.08344989879636586, 0.23535704270368707, 0.13916559637397183\n",
      "0.09383307161402049, 1.2363472546547145, 0.5133630396556744\n",
      "0.07806981177772357, 0.18897571763413148, 0.13640516680639533\n",
      "0.08462088407195946, 0.1874102371668221, 0.12624042332203353\n",
      "0.08381115881904665, 2.197099564294045, 0.2982552508731188\n",
      "0.0803131182965641, 0.09981495128678244, 0.08525962662242183\n",
      "0.07655277505814527, 0.29918618365941374, 0.18268227437616152\n",
      "0.07872974239752023, 1.4824467481610086, 2.577852732671344\n",
      "0.06989924759044716, 0.10175208785878995, 0.08987718044923905\n",
      "0.07239615745850789, 0.11853667429150039, 0.12426178115818502\n",
      "0.07082837896499641, 2.578604916842152, 1.268114645991079\n",
      "0.06638805603788633, 0.12438102441263303, 0.091380984968746\n",
      "0.0665176003781762, 0.33053096681454286, 0.16365795658356358\n",
      "0.06538759579154849, 2.062084677403777, 0.14099767533087096\n",
      "0.060941175782706705, 0.14451658525427025, 0.08523674644980489\n",
      "0.06603012518048353, 0.13092929816150578, 0.10566325745976529\n",
      "0.061228194683137116, 2.380874861071198, 0.1012845430526239\n",
      "0.056187070318621316, 0.07069674555738129, 0.061978228182445486\n",
      "0.061334276610213304, 0.22118698577550902, 0.11607925252714274\n",
      "0.0590533855849128, 2.2942469201110836, 1.1144151967575626\n",
      "0.053669455468724904, 0.09828133552999639, 0.07298005368400719\n",
      "0.055695284993714914, 0.251529225464634, 0.12588065585022987\n",
      "0.06399525140228297, 1.34604753083569, 0.08363611156021986\n",
      "0.05317914782892589, 0.3396215396233576, 0.14433400484770773\n",
      "0.051568739204891266, 0.1758959510399212, 0.08883481472498563\n",
      "0.0574473832414906, 2.903518212313937, 0.3657197115134179\n",
      "0.05486750879533057, 0.11056300867871105, 0.08135764827671578\n",
      "0.0588804327051202, 0.10784904327675222, 0.073419081292901\n",
      "0.05295560801767339, 1.6419948537022608, 0.07045241458416317\n",
      "0.05556530160039961, 0.3684731586449215, 0.1581776281839182\n",
      "0.0517452533341833, 0.1753157192818269, 0.07521203056747784\n",
      "0.05293322902719333, 3.0489118526489105, 0.5465069459692273\n",
      "0.05931911882573312, 0.1960327175777148, 0.1122426900330735\n",
      "0.052296474512180925, 0.10075278165255004, 0.0669750617840771\n",
      "0.051228568041481584, 4.942676760107103, 1.3014262964381975\n",
      "0.454796344707439, 0.5216060456603543, 0.5012520626456753\n",
      "0.46316751044938115, 0.5209699254562101, 0.48334505586717114\n",
      "0.49595053801358624, 3.0961181843256913, 0.702917823882078\n",
      "0.48177844771483064, 0.5327858883432376, 0.49981990005752336\n",
      "0.46656750502299865, 0.5689346699355211, 0.4880822785830954\n",
      "0.5164644667177936, 2.159886440803567, 1.372209772285948\n",
      "0.24277003920661605, 0.26926988577250927, 0.26168547046515556\n",
      "0.23394519109661277, 0.3050383798000794, 0.25707652100012024\n",
      "0.2435299027912599, 3.636253687424766, 0.28884287776180734\n",
      "0.10917352215760116, 0.13045642366859073, 0.12343894639066538\n",
      "0.11276624827830986, 0.13352829376610037, 0.1131337913002644\n",
      "0.11541490459290005, 3.5295469838084967, 2.2169576475109123\n",
      "0.0908379188282095, 0.10197030324519005, 0.10012396082293519\n",
      "0.09216517879588519, 0.12012435191192113, 0.13250167911982483\n",
      "0.09355284022816372, 2.1408359762954836, 0.48460906472032805\n",
      "0.0958987826698559, 0.11592311523697407, 0.10700859699960406\n",
      "0.09139452377892884, 0.14818374261031547, 0.14834710194577783\n",
      "0.10256619363766051, 1.6210327352822624, 1.4196615604942335\n",
      "0.10226256922227028, 0.12226191191372951, 0.11473163161357758\n",
      "0.10828351963284558, 0.1360154519367898, 0.11331849638852746\n"
     ]
    },
    {
     "name": "stdout",
     "output_type": "stream",
     "text": [
      "0.10715180079027668, 0.8329437973038534, 0.26810200514050964\n",
      "0.10573343449705434, 0.13265928045127226, 0.12379219522214358\n",
      "0.10097843451645958, 0.14618789819008043, 0.12739775138163686\n",
      "0.1129072610324369, 3.2855540296237713, 4.330284906686542\n",
      "0.1000792038299488, 0.1376527358097341, 0.1081850403427029\n",
      "0.09300218020096238, 0.16008831242322738, 0.12264758166366746\n",
      "0.10302875593541547, 1.8339971746831778, 2.656736592978564\n",
      "0.09524968555073612, 0.12079766678811954, 0.11306946037190291\n",
      "0.09657931994505117, 0.12391420270990554, 0.10491055175434726\n",
      "0.09446163525189591, 1.12355265216998, 0.9693477803516082\n",
      "0.08513701759472464, 0.10352607024360368, 0.09221801710938085\n",
      "0.08617950519353682, 0.10548496302713888, 0.08879690422275403\n",
      "0.08528610468314257, 3.037395067912572, 0.6154213842082946\n",
      "0.07734131250577356, 0.08283557874281318, 0.0798240083860039\n",
      "0.078892014013051, 0.1024631353913182, 0.11123359108854342\n",
      "0.07936129631644745, 2.4922341657350926, 0.7590142037005305\n",
      "0.06714921142615513, 0.08027491701088701, 0.06969045388231046\n",
      "0.06742447941153379, 0.10277411617494425, 0.1392181672664558\n",
      "0.06794544552699901, 2.325439232899149, 7.121668884255688\n"
     ]
    }
   ],
   "source": [
    "experiments = []\n",
    "\n",
    "cntCombinations = 0\n",
    "print(\"Number combinations: \", numCombinations)\n",
    "\n",
    "for n in bigN:\n",
    "    for d in deg:\n",
    "        for sigma in sigmas:\n",
    "            cntCombinations+=1\n",
    "            Ein_avg, Eout_avg, Ebias = experiment(n, d, sigma, lambd, trials=10)\n",
    "            \n",
    "#             print(\"Experiment \", cntCombinations)\n",
    "#             print(\"Inputs N, d, sigma: %s, %s, %s\" % (n, d, sigma))\n",
    "            print(\"%s, %s, %s\" % (Ein_avg, Eout_avg, Ebias))\n",
    "            experiments.append([n, d, sigma, Ein_avg, Eout_avg, Ebias])\n",
    "\n",
    "print(\"done\")\n",
    "#'''\n",
    "# save experiment\n",
    "with open(\".\\experiments\\experiments_reg\", 'w', encoding=\"utf-8\") as fout:\n",
    "    pprint(experiments, fout)\n",
    "#'''"
   ]
  },
  {
   "cell_type": "code",
   "execution_count": null,
   "metadata": {},
   "outputs": [],
   "source": []
  }
 ],
 "metadata": {
  "kernelspec": {
   "display_name": "Python 3",
   "language": "python",
   "name": "python3"
  },
  "language_info": {
   "codemirror_mode": {
    "name": "ipython",
    "version": 3
   },
   "file_extension": ".py",
   "mimetype": "text/x-python",
   "name": "python",
   "nbconvert_exporter": "python",
   "pygments_lexer": "ipython3",
   "version": "3.6.5"
  }
 },
 "nbformat": 4,
 "nbformat_minor": 2
}
