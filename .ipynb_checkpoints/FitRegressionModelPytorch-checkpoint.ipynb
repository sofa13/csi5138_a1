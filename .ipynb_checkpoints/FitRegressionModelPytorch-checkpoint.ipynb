{
 "cells": [
  {
   "cell_type": "code",
   "execution_count": null,
   "metadata": {},
   "outputs": [],
   "source": [
    "# test cases\n",
    "#print(gaussianRan(2))\n",
    "#print(functionx(1,1))\n",
    "#data = np.concatenate((x, y), axis=1)\n",
    "#print(getData(3,1))\n",
    "#x = np.array([[1,2], [1,3], [1,4], [1,5]])\n",
    "#y = np.array([[7], [6], [5], [4]])\n",
    "#w = np.array([[0.1], [0.2]])\n",
    "#print(getMSE(x, y, w))\n",
    "\n",
    "#x = np.array([[1], [2], [3]])\n",
    "#d = 4\n",
    "#print(polynomialx(x,d))\n",
    "'''\n",
    "x = np.array([[8,1,6],[3,5,7],[4,9,2]])\n",
    "y = np.array([[7],[6],[5]])\n",
    "w = np.array([[0.2],[0.3],[0.4]])\n",
    "b = 0.1\n",
    "\n",
    "dw, db = gradient(x,y,w,b)\n",
    "print(dw)\n",
    "print(db)\n",
    "'''\n",
    "'''\n",
    "n = 50\n",
    "d = 4\n",
    "sigma = 0.1\n",
    "Ein_avg, Eout_avg, Ebias = experiment(n, d, sigma)\n",
    "print(Ein)\n",
    "print(Eout)\n",
    "print(Ebias)\n",
    "'''\n",
    "\n",
    "# avg (this actually isn't needed if I am normalizing from range 0 to 1)\n",
    "#n_dict = {k: x/len(n_dict) for k, x in n_dict.items()}\n",
    "#d_dict = {k: x/len(d_dict) for k, x in d_dict.items()}\n",
    "#sigma_dict = {k: x/len(sigma_dict) for k, x in sigma_dict.items()}\n",
    "\n",
    "#pprint(n_dict)\n",
    "#pprint(d_dict)\n",
    "#pprint(sigma_dict)\n",
    "\n",
    "# normalize between 0 and 1\n",
    "#y_Ein = [(y-min(y_Ein))/(max(y_Ein)-min(y_Ein)) for y in y_Ein]\n",
    "#y_Eout = [(y-min(y_Eout))/(max(y_Eout)-min(y_Eout)) for y in y_Eout]\n",
    "#y_Ebias = [(y-min(y_Ebias))/(max(y_Ebias)-min(y_Ebias)) for y in y_Ebias]"
   ]
  },
  {
   "cell_type": "code",
   "execution_count": 31,
   "metadata": {},
   "outputs": [],
   "source": [
    "import numpy as np\n",
    "import matplotlib.pyplot as plt\n",
    "from pprint import pprint\n",
    "import torch\n",
    "import torch.nn as nn\n",
    "from torch.autograd import Variable\n",
    "from sklearn import preprocessing\n",
    "torch.set_default_tensor_type('torch.DoubleTensor')\n",
    "\n",
    "# Run Experiment\n",
    "bigN = [2, 5, 10, 20, 50, 100, 200]\n",
    "deg = list(range(1,21))\n",
    "sigmas = [0.01, 0.1, 1]\n",
    "lambd = 0\n",
    "numCombinations = len(bigN)*len(deg)*len(sigmas)"
   ]
  },
  {
   "cell_type": "code",
   "execution_count": 12,
   "metadata": {},
   "outputs": [],
   "source": [
    "def gaussianRan(sigma, mu=0):\n",
    "    # standard normal distribution of mean 0 variance 1\n",
    "    # For random samples from N(\\mu, \\sigma^2), use\n",
    "    return sigma*np.random.randn() + mu"
   ]
  },
  {
   "cell_type": "code",
   "execution_count": 13,
   "metadata": {},
   "outputs": [
    {
     "data": {
      "image/png": "[encoded data removed]",
      "text/plain": [
       "<Figure size 432x288 with 1 Axes>"
      ]
     },
     "metadata": {},
     "output_type": "display_data"
    }
   ],
   "source": [
    "# test gaussian distribution\n",
    "n = 10000\n",
    "x = np.random.randn(n)\n",
    "#x = np.random.uniform(low=0, high=1, size=(n,1))\n",
    "\n",
    "bins = int(n/5)\n",
    "plt.hist(x, bins)\n",
    "plt.show()"
   ]
  },
  {
   "cell_type": "code",
   "execution_count": 14,
   "metadata": {},
   "outputs": [],
   "source": [
    "def functionx(x, sigma):\n",
    "    return np.cos(2*np.pi*x) + gaussianRan(sigma)"
   ]
  },
  {
   "cell_type": "code",
   "execution_count": 15,
   "metadata": {},
   "outputs": [],
   "source": [
    "def getData(n, sigma):\n",
    "    x = np.random.uniform(low=0, high=1, size=(n,1))\n",
    "    y = functionx(x, sigma)\n",
    "    return Variable(torch.from_numpy(x)), Variable(torch.from_numpy(y))"
   ]
  },
  {
   "cell_type": "code",
   "execution_count": 16,
   "metadata": {},
   "outputs": [
    {
     "data": {
      "image/png": "[encoded data removed]",
      "text/plain": [
       "<Figure size 432x288 with 1 Axes>"
      ]
     },
     "metadata": {},
     "output_type": "display_data"
    }
   ],
   "source": [
    "# graph test\n",
    "n = 100\n",
    "sigma = 1\n",
    "x, y = getData(n, sigma)\n",
    "x = preprocessing.scale(x)\n",
    "y = preprocessing.scale(y)\n",
    "\n",
    "plt.scatter(x, y)\n",
    "plt.show()"
   ]
  },
  {
   "cell_type": "code",
   "execution_count": 17,
   "metadata": {},
   "outputs": [],
   "source": [
    "def forwardTorchNumpy(x, y, w, lambd, is_numpy=False):\n",
    "    if is_numpy:\n",
    "        y_pred = np.dot(x,w)\n",
    "    else:\n",
    "        y_pred = torch.mm(x,w)\n",
    "    return getMSE(y_pred, y, w, lambd, is_numpy=is_numpy)"
   ]
  },
  {
   "cell_type": "code",
   "execution_count": 18,
   "metadata": {},
   "outputs": [
    {
     "name": "stdout",
     "output_type": "stream",
     "text": [
      "tensor([[1., 2.],\n",
      "        [3., 4.]])\n",
      "tensor([[1., 3.],\n",
      "        [2., 4.]])\n"
     ]
    }
   ],
   "source": [
    "a = torch.Tensor([[1,2],[3,4]])\n",
    "print(a)\n",
    "print(a.t())"
   ]
  },
  {
   "cell_type": "code",
   "execution_count": 19,
   "metadata": {},
   "outputs": [],
   "source": [
    "def getMSE(y_pred, y, w, lambd, is_numpy=False):\n",
    "    if is_numpy:\n",
    "        return np.mean((y_pred - y)**2) + lambd*np.mean(np.dot(w.T, w))\n",
    "    return torch.mean((y_pred - y)**2) + lambd*torch.mean(torch.mm(w.t(), w))"
   ]
  },
  {
   "cell_type": "code",
   "execution_count": 51,
   "metadata": {},
   "outputs": [
    {
     "name": "stdout",
     "output_type": "stream",
     "text": [
      "tensor(2.6250)\n"
     ]
    }
   ],
   "source": [
    "y_pred = torch.Tensor([[1.5],[1]])\n",
    "y = torch.Tensor([[2],[2]])\n",
    "w = torch.Tensor([[1],[1]])\n",
    "lambd = 1\n",
    "print(getMSE(y_pred, y, w, lambd))"
   ]
  },
  {
   "cell_type": "code",
   "execution_count": 63,
   "metadata": {},
   "outputs": [],
   "source": [
    "def polynomialx(x, d, is_numpy=False):\n",
    "    poly = preprocessing.PolynomialFeatures(d, include_bias=False)\n",
    "    x = poly.fit_transform(x)\n",
    "        \n",
    "    if is_numpy is False:\n",
    "        x = torch.from_numpy(x)\n",
    "    return x"
   ]
  },
  {
   "cell_type": "code",
   "execution_count": 64,
   "metadata": {},
   "outputs": [
    {
     "name": "stdout",
     "output_type": "stream",
     "text": [
      "tensor([[ 2.,  4.],\n",
      "        [ 3.,  9.],\n",
      "        [ 4., 16.]])\n"
     ]
    }
   ],
   "source": [
    "x = np.array([[2], [3], [4]])\n",
    "d = 2\n",
    "print(polynomialx(x,d))"
   ]
  },
  {
   "cell_type": "code",
   "execution_count": 145,
   "metadata": {},
   "outputs": [],
   "source": [
    "def gradApprox(lr, x, y, lambd, e=1e-7):\n",
    "    w = lr.linear.weight.data.reshape(-1,1)\n",
    "    dwa = torch.zeros(w.size())\n",
    "    \n",
    "    i = 0\n",
    "    for val in w:\n",
    "        wp, wm = w.copy(), w.copy()\n",
    "        print(wp)\n",
    "        wp[i] += e\n",
    "        wm[i] -= e\n",
    "        print(wp)\n",
    "         \n",
    "        jp = getMSE(lr.forward(x), y, wp, lambd)\n",
    "        jm = getMSE(lr.forward(x), y, wm, lambd)\n",
    "        print(jp)\n",
    "        dwa[i] = (jp - jm)/(2*e)\n",
    "        i += 1\n",
    "    \n",
    "    return dwa"
   ]
  },
  {
   "cell_type": "code",
   "execution_count": 141,
   "metadata": {},
   "outputs": [],
   "source": [
    "def checkGrad(lr, x, y, lambd):\n",
    "    dw = lr.linear.weight.grad.data.reshape(-1, 1)\n",
    "    dwa = gradApprox(lr,x,y,lambd)\n",
    "    dw, dwa = dw.detach().numpy(), dwa.detach().numpy()\n",
    "    print(dw)\n",
    "    print(dwa)\n",
    "    print(\"*****************************************\")\n",
    "    e = np.linalg.norm(dw-dwa)/(np.linalg.norm(dw) + np.linalg.norm(dwa))\n",
    "    print(\"Grad approx error: \", e)"
   ]
  },
  {
   "cell_type": "code",
   "execution_count": 65,
   "metadata": {},
   "outputs": [],
   "source": [
    "class LrModule(nn.Module):\n",
    "\n",
    "    def __init__(self, degree):\n",
    "        super(LrModule, self).__init__()\n",
    "        self.linear = nn.Linear(d,1)\n",
    "\n",
    "    def forward(self, x):\n",
    "        # linear\n",
    "        return self.linear(x)"
   ]
  },
  {
   "cell_type": "code",
   "execution_count": 52,
   "metadata": {},
   "outputs": [
    {
     "name": "stdout",
     "output_type": "stream",
     "text": [
      "Linear(in_features=5, out_features=1, bias=True)\n"
     ]
    }
   ],
   "source": [
    "lr = LrModule(4)\n",
    "print(lr.linear)"
   ]
  },
  {
   "cell_type": "code",
   "execution_count": 170,
   "metadata": {},
   "outputs": [],
   "source": [
    "def fitData(x, y, d, sigma, lambd=0, learning_rate=1e-2, itera=50, n_test=1000, check_grad=False):  \n",
    "    # create polynomial x matrix\n",
    "    x = polynomialx(x, d)\n",
    "    \n",
    "    # keep track of cost for testing\n",
    "    cost_hist = []\n",
    "    it_hist = []\n",
    "    \n",
    "    lr = LrModule(d)\n",
    "    #print(lr.linear.weight.data)\n",
    "    #print(lr.linear.bias.data)\n",
    "    \n",
    "    for i in range(itera):\n",
    "        # clear grads\n",
    "        lr.zero_grad()\n",
    "        \n",
    "        # Forward\n",
    "        y_pred = lr.forward(x)\n",
    "        \n",
    "        # loss\n",
    "        w = lr.linear.weight.data\n",
    "        cost = getMSE(y_pred, y, w, lambd)\n",
    "        \n",
    "        # Backward for derivative\n",
    "        cost.backward()\n",
    "        \n",
    "        # Gradient checking\n",
    "        if check_grad:\n",
    "            checkGrad(lr, x, y, lambd)\n",
    "            break\n",
    "        \n",
    "        # Update gradient\n",
    "        lr.linear.weight.data -= learning_rate*lr.linear.weight.grad.data\n",
    "        lr.linear.bias.data -= learning_rate*lr.linear.bias.grad.data\n",
    "        \n",
    "        # Save cost history for testing\n",
    "        cost_hist.append(cost.detach().numpy())\n",
    "        it_hist.append(i)\n",
    "    \n",
    "    w = lr.linear.weight.data\n",
    "    \n",
    "    # Calculate Ein\n",
    "    Ein = getMSE(lr.forward(x), y, w, lambd)\n",
    "    \n",
    "    # Calculate Eout, with test dataset\n",
    "    x_test, y_test = getData(n_test, sigma)\n",
    "    \n",
    "    # create x_test dimension d\n",
    "    x_test = polynomialx(x_test, d)\n",
    "    \n",
    "    # Calculate\n",
    "    Eout = getMSE(lr.forward(x_test), y_test, w, lambd)\n",
    "    \n",
    "    return Ein.detach().numpy(), Eout.detach().numpy(), lr, [it_hist, cost_hist]"
   ]
  },
  {
   "cell_type": "code",
   "execution_count": 160,
   "metadata": {},
   "outputs": [
    {
     "name": "stdout",
     "output_type": "stream",
     "text": [
      "tensor([[ 0.4991, -0.3734, -0.0673,  0.4381]])\n",
      "tensor([0.0064])\n",
      "0.034826418682712454\n",
      "1.7750692802098835\n"
     ]
    },
    {
     "data": {
      "image/png": "[encoded data removed]",
      "text/plain": [
       "<Figure size 432x288 with 1 Axes>"
      ]
     },
     "metadata": {},
     "output_type": "display_data"
    }
   ],
   "source": [
    "#x = np.array([[1],[2],[3]])\n",
    "d, sigma, n, lambd = 4, 1, 5, 0\n",
    "x, y = getData(n,sigma)\n",
    "Ein, Eout, lr, plot_data = fitData(x, y, d, sigma, lambd=lambd, check_grad=False)\n",
    "\n",
    "print(Ein)\n",
    "print(Eout)\n",
    "\n",
    "xx, yy = plot_data\n",
    "#print(xx)\n",
    "#print(yy)\n",
    "plt.scatter(xx, yy)\n",
    "plt.show()"
   ]
  },
  {
   "cell_type": "code",
   "execution_count": 173,
   "metadata": {},
   "outputs": [],
   "source": [
    "def experiment(n, d, sigma, lambd, trials=5, n_test=2000):\n",
    "    # initialize\n",
    "    Ein_hist, Eout_hist = np.array([]), np.array([])\n",
    "    w_hist, b_hist = np.empty([d, 0]), np.array([])\n",
    "    \n",
    "    for trail in range(trials):\n",
    "        x, y = getData(n, sigma)\n",
    "        Ein, Eout, lr, plot_data = fitData(x, y, d, sigma)\n",
    "        Ein_hist = np.append(Ein_hist, [Ein])\n",
    "        Eout_hist = np.append(Eout_hist, [Eout])\n",
    "        w_hist = np.append(w_hist, lr.linear.weight.data.detach().numpy().reshape(-1,1), axis=1)\n",
    "        b_hist = np.append(b_hist, lr.linear.bias.data.detach().numpy().reshape(-1,1))\n",
    "    \n",
    "    print(Ein_hist)\n",
    "    print(Eout_hist)\n",
    "    print(w_hist)\n",
    "    print(b_hist)\n",
    "    \n",
    "    # take the avg\n",
    "    Ein_avg = np.mean(Ein_hist)\n",
    "    Eout_avg = np.mean(Eout_hist)\n",
    "    w_avg = (1/trials)*np.sum(w_hist, axis=1).reshape(d,1)\n",
    "    b_avg = np.mean(b_hist)\n",
    "    \n",
    "    print(Ein_avg)\n",
    "    print(Eout_avg)\n",
    "    print(w_avg)\n",
    "    print(b_avg)\n",
    "    \n",
    "    # Test dataset on averaged polynomials\n",
    "    x_test, y_test = getData(n_test, sigma)\n",
    "    \n",
    "    # create x_test dimension d\n",
    "    x_test = polynomialx(x_test, d)\n",
    "\n",
    "    lr.linear.weight.data = torch.from_numpy(w_avg)\n",
    "    lr.bias.weight.data = torch.from_numpy(b_avg)\n",
    "    Ebias = getMSE(lr.forward(x_test), y_test, w_avg, lambd)\n",
    "    \n",
    "    return Ein_avg, Eout_avg, Ebias"
   ]
  },
  {
   "cell_type": "code",
   "execution_count": 174,
   "metadata": {},
   "outputs": [
    {
     "name": "stdout",
     "output_type": "stream",
     "text": [
      "Number combinations:  420\n",
      "[0.48287531 0.87703284 0.01481566 0.58844806 0.09059348]\n",
      "[0.55428907 0.55313568 0.81564727 0.55481854 1.28045069]\n",
      "[[ 0.65389994  0.1200675  -0.79758317  0.57601446  0.50074794]]\n",
      "[-0.17072111  0.1866696   0.91404756 -0.45492934  0.66123439]\n",
      "0.4107530702041607\n",
      "0.7516682501379975\n",
      "[[0.21062933]]\n",
      "0.22726022087198658\n"
     ]
    },
    {
     "ename": "TypeError",
     "evalue": "expected np.ndarray (got numpy.float64)",
     "output_type": "error",
     "traceback": [
      "\u001b[1;31m---------------------------------------------------------------------------\u001b[0m",
      "\u001b[1;31mTypeError\u001b[0m                                 Traceback (most recent call last)",
      "\u001b[1;32m<ipython-input-174-1b2780769178>\u001b[0m in \u001b[0;36m<module>\u001b[1;34m()\u001b[0m\n\u001b[0;32m     13\u001b[0m         \u001b[1;32mfor\u001b[0m \u001b[0msigma\u001b[0m \u001b[1;32min\u001b[0m \u001b[0msigmas\u001b[0m\u001b[1;33m:\u001b[0m\u001b[1;33m\u001b[0m\u001b[0m\n\u001b[0;32m     14\u001b[0m             \u001b[0mcntCombinations\u001b[0m\u001b[1;33m+=\u001b[0m\u001b[1;36m1\u001b[0m\u001b[1;33m\u001b[0m\u001b[0m\n\u001b[1;32m---> 15\u001b[1;33m             \u001b[0mEin_avg\u001b[0m\u001b[1;33m,\u001b[0m \u001b[0mEout_avg\u001b[0m\u001b[1;33m,\u001b[0m \u001b[0mEbias\u001b[0m \u001b[1;33m=\u001b[0m \u001b[0mexperiment\u001b[0m\u001b[1;33m(\u001b[0m\u001b[0mn\u001b[0m\u001b[1;33m,\u001b[0m \u001b[0md\u001b[0m\u001b[1;33m,\u001b[0m \u001b[0msigma\u001b[0m\u001b[1;33m,\u001b[0m \u001b[0mlambd\u001b[0m\u001b[1;33m)\u001b[0m\u001b[1;33m\u001b[0m\u001b[0m\n\u001b[0m\u001b[0;32m     16\u001b[0m \u001b[1;33m\u001b[0m\u001b[0m\n\u001b[0;32m     17\u001b[0m             \u001b[0mprint\u001b[0m\u001b[1;33m(\u001b[0m\u001b[1;34m\"Experiment \"\u001b[0m\u001b[1;33m,\u001b[0m \u001b[0mcntCombinations\u001b[0m\u001b[1;33m)\u001b[0m\u001b[1;33m\u001b[0m\u001b[0m\n",
      "\u001b[1;32m<ipython-input-173-a3c0285af9ba>\u001b[0m in \u001b[0;36mexperiment\u001b[1;34m(n, d, sigma, lambd, trials, n_test)\u001b[0m\n\u001b[0;32m     35\u001b[0m \u001b[1;33m\u001b[0m\u001b[0m\n\u001b[0;32m     36\u001b[0m     \u001b[0mlr\u001b[0m\u001b[1;33m.\u001b[0m\u001b[0mlinear\u001b[0m\u001b[1;33m.\u001b[0m\u001b[0mweight\u001b[0m\u001b[1;33m.\u001b[0m\u001b[0mdata\u001b[0m \u001b[1;33m=\u001b[0m \u001b[0mtorch\u001b[0m\u001b[1;33m.\u001b[0m\u001b[0mfrom_numpy\u001b[0m\u001b[1;33m(\u001b[0m\u001b[0mw_avg\u001b[0m\u001b[1;33m)\u001b[0m\u001b[1;33m\u001b[0m\u001b[0m\n\u001b[1;32m---> 37\u001b[1;33m     \u001b[0mlr\u001b[0m\u001b[1;33m.\u001b[0m\u001b[0mbias\u001b[0m\u001b[1;33m.\u001b[0m\u001b[0mweight\u001b[0m\u001b[1;33m.\u001b[0m\u001b[0mdata\u001b[0m \u001b[1;33m=\u001b[0m \u001b[0mtorch\u001b[0m\u001b[1;33m.\u001b[0m\u001b[0mfrom_numpy\u001b[0m\u001b[1;33m(\u001b[0m\u001b[0mb_avg\u001b[0m\u001b[1;33m)\u001b[0m\u001b[1;33m\u001b[0m\u001b[0m\n\u001b[0m\u001b[0;32m     38\u001b[0m     \u001b[0mEbias\u001b[0m \u001b[1;33m=\u001b[0m \u001b[0mgetMSE\u001b[0m\u001b[1;33m(\u001b[0m\u001b[0mlr\u001b[0m\u001b[1;33m.\u001b[0m\u001b[0mforward\u001b[0m\u001b[1;33m(\u001b[0m\u001b[0mx_test\u001b[0m\u001b[1;33m)\u001b[0m\u001b[1;33m,\u001b[0m \u001b[0my_test\u001b[0m\u001b[1;33m,\u001b[0m \u001b[0mw_avg\u001b[0m\u001b[1;33m,\u001b[0m \u001b[0mlambd\u001b[0m\u001b[1;33m)\u001b[0m\u001b[1;33m\u001b[0m\u001b[0m\n\u001b[0;32m     39\u001b[0m \u001b[1;33m\u001b[0m\u001b[0m\n",
      "\u001b[1;31mTypeError\u001b[0m: expected np.ndarray (got numpy.float64)"
     ]
    }
   ],
   "source": [
    "# testing\n",
    "#bigN = [50]\n",
    "#deg = [4]\n",
    "#sigmas = [0.1]\n",
    "\n",
    "experiments = []\n",
    "\n",
    "cntCombinations = 0\n",
    "print(\"Number combinations: \", numCombinations)\n",
    "\n",
    "for n in bigN:\n",
    "    for d in deg:\n",
    "        for sigma in sigmas:\n",
    "            cntCombinations+=1\n",
    "            Ein_avg, Eout_avg, Ebias = experiment(n, d, sigma, lambd)\n",
    "            \n",
    "            print(\"Experiment \", cntCombinations)\n",
    "            print(\"Inputs N, d, sigma: %s, %s, %s\" % (n, d, sigma))\n",
    "            print(\"%s, %s, %s\" % (Ein_avg, Eout_avg, Ebias))\n",
    "            experiments.append([n, d, sigma, Ein_avg, Eout_avg, Ebias])\n",
    "            break\n",
    "\n",
    "# save experiment\n",
    "with open(\"experiments_6\", 'w', encoding=\"utf-8\") as fout:\n",
    "    pprint(experiments, fout)\n"
   ]
  },
  {
   "cell_type": "code",
   "execution_count": 150,
   "metadata": {},
   "outputs": [
    {
     "name": "stdout",
     "output_type": "stream",
     "text": [
      "{2: array([0.45837415, 0.90384567, 1.16393596]),\n",
      " 5: array([0.54814239, 0.91733238, 0.94395157]),\n",
      " 10: array([0.57312363, 0.84563864, 0.69152615]),\n",
      " 20: array([0.60487606, 0.85937543, 0.74498963]),\n",
      " 50: array([0.61324284, 0.85215474, 0.93351591]),\n",
      " 100: array([0.61681147, 0.83650011, 0.70172925]),\n",
      " 200: array([0.6203054 , 0.84424502, 0.84310786])}\n",
      "{1: array([0.62417405, 0.87273296, 0.92797748]),\n",
      " 2: array([0.59369231, 0.86520665, 0.63646193]),\n",
      " 3: array([0.57964491, 0.86644787, 1.19898827]),\n",
      " 4: array([0.60645446, 0.86182971, 0.62190911]),\n",
      " 5: array([0.58650851, 0.91957959, 0.66671218]),\n",
      " 6: array([0.58796663, 0.88648265, 0.94686135]),\n",
      " 7: array([0.56851025, 0.84160771, 0.62291448]),\n",
      " 8: array([0.57565344, 0.86125861, 1.41328062]),\n",
      " 9: array([0.58116179, 0.87033567, 0.67646186]),\n",
      " 10: array([0.59559547, 0.88558937, 1.08572869]),\n",
      " 11: array([0.57449159, 0.84452827, 1.08092596]),\n",
      " 12: array([0.55887955, 0.89647923, 1.1814942 ]),\n",
      " 13: array([0.57639729, 0.89878266, 0.91056736]),\n",
      " 14: array([0.55743758, 0.80539499, 0.72742091]),\n",
      " 15: array([0.56804986, 0.86505552, 0.94593063]),\n",
      " 16: array([0.5744864 , 0.84398152, 0.70558206]),\n",
      " 17: array([0.56853067, 0.86309277, 0.62347546]),\n",
      " 18: array([0.53875127, 0.83145421, 0.85103696]),\n",
      " 19: array([0.55729906, 0.84841932, 0.72688664]),\n",
      " 20: array([0.55453186, 0.88343213, 0.65725909])}\n",
      "{0.01: array([0.43397296, 0.48962298, 0.47940903]),\n",
      " 0.1: array([0.43742306, 0.5002133 , 0.4880084 ]),\n",
      " 1: array([0.85783652, 1.60691743, 1.61376386])}\n"
     ]
    },
    {
     "data": {
      "image/png": "[encoded data removed]",
      "text/plain": [
       "<Figure size 432x288 with 1 Axes>"
      ]
     },
     "metadata": {},
     "output_type": "display_data"
    },
    {
     "data": {
      "image/png": "[encoded data removed]",
      "text/plain": [
       "<Figure size 432x288 with 1 Axes>"
      ]
     },
     "metadata": {},
     "output_type": "display_data"
    },
    {
     "data": {
      "image/png": "[encoded data removed]",
      "text/plain": [
       "<Figure size 432x288 with 1 Axes>"
      ]
     },
     "metadata": {},
     "output_type": "display_data"
    }
   ],
   "source": [
    "# do fun stuff with experiment\n",
    "with open(\"experiments_4\", \"r\", encoding='utf-8') as f:\n",
    "    experiments = eval(f.read())\n",
    "    \n",
    "n_dict, d_dict, sigma_dict = dict(), dict(), dict()\n",
    "for exp in experiments:\n",
    "    n, d, s = exp[0], exp[1], exp[2]\n",
    "    \n",
    "    n_dict[n] = n_dict.get(n, np.array([0, 0, 0])) + np.array(exp[3:6])\n",
    "    d_dict[d] = d_dict.get(d, np.array([0, 0, 0])) + np.array(exp[3:6])\n",
    "    sigma_dict[s] = sigma_dict.get(s, np.array([0, 0, 0])) + np.array(exp[3:6])\n",
    "\n",
    "# avg (this actually isn't needed if I am normalizing from range 0 to 1)\n",
    "n_dict = {k: x/(numCombinations/len(n_dict)) for k, x in n_dict.items()}\n",
    "d_dict = {k: x/(numCombinations/len(d_dict)) for k, x in d_dict.items()}\n",
    "sigma_dict = {k: x/(numCombinations/len(sigma_dict)) for k, x in sigma_dict.items()}\n",
    "\n",
    "pprint(n_dict)\n",
    "pprint(d_dict)\n",
    "pprint(sigma_dict)\n",
    "\n",
    "# plot n vs Ein_avg, Eout_avg, Ebias\n",
    "y_Ein = [n_dict[n][0] for n in bigN]\n",
    "y_Eout = [n_dict[n][1] for n in bigN]\n",
    "y_Ebias = [n_dict[n][2] for n in bigN]\n",
    "\n",
    "plt.plot(bigN, y_Ein)\n",
    "plt.plot(bigN, y_Eout)\n",
    "plt.plot(bigN, y_Ebias)\n",
    "plt.show()\n",
    "\n",
    "# plot deg vs Ein_avg, Eout_avg, Ebias\n",
    "y_Ein = [d_dict[n][0] for n in deg]\n",
    "y_Eout = [d_dict[n][1] for n in deg]\n",
    "y_Ebias = [d_dict[n][2] for n in deg]\n",
    "\n",
    "plt.plot(deg, y_Ein)\n",
    "plt.plot(deg, y_Eout)\n",
    "plt.plot(deg, y_Ebias)\n",
    "plt.show()\n",
    "\n",
    "# plot sigma vs Ein_avg, Eout_avg, Ebias\n",
    "y_Ein = [sigma_dict[n][0] for n in sigmas]\n",
    "y_Eout = [sigma_dict[n][1] for n in sigmas]\n",
    "y_Ebias = [sigma_dict[n][2] for n in sigmas]\n",
    "\n",
    "plt.plot(sigmas, y_Ein)\n",
    "plt.plot(sigmas, y_Eout)\n",
    "plt.plot(sigmas, y_Ebias)\n",
    "plt.show()"
   ]
  },
  {
   "cell_type": "code",
   "execution_count": null,
   "metadata": {},
   "outputs": [],
   "source": []
  }
 ],
 "metadata": {
  "kernelspec": {
   "display_name": "Python 3",
   "language": "python",
   "name": "python3"
  },
  "language_info": {
   "codemirror_mode": {
    "name": "ipython",
    "version": 3
   },
   "file_extension": ".py",
   "mimetype": "text/x-python",
   "name": "python",
   "nbconvert_exporter": "python",
   "pygments_lexer": "ipython3",
   "version": "3.6.5"
  }
 },
 "nbformat": 4,
 "nbformat_minor": 2
}
